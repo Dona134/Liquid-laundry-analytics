{
 "cells": [
  {
   "cell_type": "code",
   "execution_count": 40,
   "id": "initial_id",
   "metadata": {
    "collapsed": true,
    "ExecuteTime": {
     "end_time": "2024-10-09T10:03:59.702368200Z",
     "start_time": "2024-10-09T10:03:59.310736600Z"
    }
   },
   "outputs": [],
   "source": [
    "import pandas as pd"
   ]
  },
  {
   "cell_type": "code",
   "execution_count": 41,
   "outputs": [
    {
     "data": {
      "text/plain": "   Unnamed: 0  Occasion  Household  Week  Loyalty  Price  Feature  Display  \\\n0           0         1          9    11     0.00   4.67        0        0   \n1           1         1          9    11     0.62   4.98        0        0   \n2           2         1          9    11     0.31   5.38        0        0   \n3           3         1          9    11     0.00   4.98        0        0   \n4           4         2          9    29     0.00   4.67        0        0   \n\n   Tide  Wisk  Era  Choice  \n0     1     0    0       1  \n1     0     1    0       0  \n2     0     0    1       0  \n3     0     0    0       0  \n4     1     0    0       0  ",
      "text/html": "<div>\n<style scoped>\n    .dataframe tbody tr th:only-of-type {\n        vertical-align: middle;\n    }\n\n    .dataframe tbody tr th {\n        vertical-align: top;\n    }\n\n    .dataframe thead th {\n        text-align: right;\n    }\n</style>\n<table border=\"1\" class=\"dataframe\">\n  <thead>\n    <tr style=\"text-align: right;\">\n      <th></th>\n      <th>Unnamed: 0</th>\n      <th>Occasion</th>\n      <th>Household</th>\n      <th>Week</th>\n      <th>Loyalty</th>\n      <th>Price</th>\n      <th>Feature</th>\n      <th>Display</th>\n      <th>Tide</th>\n      <th>Wisk</th>\n      <th>Era</th>\n      <th>Choice</th>\n    </tr>\n  </thead>\n  <tbody>\n    <tr>\n      <th>0</th>\n      <td>0</td>\n      <td>1</td>\n      <td>9</td>\n      <td>11</td>\n      <td>0.00</td>\n      <td>4.67</td>\n      <td>0</td>\n      <td>0</td>\n      <td>1</td>\n      <td>0</td>\n      <td>0</td>\n      <td>1</td>\n    </tr>\n    <tr>\n      <th>1</th>\n      <td>1</td>\n      <td>1</td>\n      <td>9</td>\n      <td>11</td>\n      <td>0.62</td>\n      <td>4.98</td>\n      <td>0</td>\n      <td>0</td>\n      <td>0</td>\n      <td>1</td>\n      <td>0</td>\n      <td>0</td>\n    </tr>\n    <tr>\n      <th>2</th>\n      <td>2</td>\n      <td>1</td>\n      <td>9</td>\n      <td>11</td>\n      <td>0.31</td>\n      <td>5.38</td>\n      <td>0</td>\n      <td>0</td>\n      <td>0</td>\n      <td>0</td>\n      <td>1</td>\n      <td>0</td>\n    </tr>\n    <tr>\n      <th>3</th>\n      <td>3</td>\n      <td>1</td>\n      <td>9</td>\n      <td>11</td>\n      <td>0.00</td>\n      <td>4.98</td>\n      <td>0</td>\n      <td>0</td>\n      <td>0</td>\n      <td>0</td>\n      <td>0</td>\n      <td>0</td>\n    </tr>\n    <tr>\n      <th>4</th>\n      <td>4</td>\n      <td>2</td>\n      <td>9</td>\n      <td>29</td>\n      <td>0.00</td>\n      <td>4.67</td>\n      <td>0</td>\n      <td>0</td>\n      <td>1</td>\n      <td>0</td>\n      <td>0</td>\n      <td>0</td>\n    </tr>\n  </tbody>\n</table>\n</div>"
     },
     "execution_count": 41,
     "metadata": {},
     "output_type": "execute_result"
    }
   ],
   "source": [
    "df = pd.read_csv('LLDB-data.csv', delimiter='|')\n",
    "df.head()"
   ],
   "metadata": {
    "collapsed": false,
    "ExecuteTime": {
     "end_time": "2024-10-09T10:04:00.148863900Z",
     "start_time": "2024-10-09T10:03:59.315739900Z"
    }
   },
   "id": "58e1d65a38b9461d"
  },
  {
   "cell_type": "code",
   "execution_count": 42,
   "outputs": [],
   "source": [
    "df.drop(columns=df.columns[0], axis=1, inplace=True)"
   ],
   "metadata": {
    "collapsed": false,
    "ExecuteTime": {
     "end_time": "2024-10-09T10:04:00.149970200Z",
     "start_time": "2024-10-09T10:03:59.335174400Z"
    }
   },
   "id": "1800238d5a91a3be"
  },
  {
   "cell_type": "code",
   "execution_count": 43,
   "outputs": [
    {
     "data": {
      "text/plain": "   Occasion  Household  Week  Loyalty  Price  Feature  Display  Tide  Wisk  \\\n0         1          9    11     0.00   4.67        0        0     1     0   \n1         1          9    11     0.62   4.98        0        0     0     1   \n2         1          9    11     0.31   5.38        0        0     0     0   \n3         1          9    11     0.00   4.98        0        0     0     0   \n4         2          9    29     0.00   4.67        0        0     1     0   \n\n   Era  Choice  \n0    0       1  \n1    0       0  \n2    1       0  \n3    0       0  \n4    0       0  ",
      "text/html": "<div>\n<style scoped>\n    .dataframe tbody tr th:only-of-type {\n        vertical-align: middle;\n    }\n\n    .dataframe tbody tr th {\n        vertical-align: top;\n    }\n\n    .dataframe thead th {\n        text-align: right;\n    }\n</style>\n<table border=\"1\" class=\"dataframe\">\n  <thead>\n    <tr style=\"text-align: right;\">\n      <th></th>\n      <th>Occasion</th>\n      <th>Household</th>\n      <th>Week</th>\n      <th>Loyalty</th>\n      <th>Price</th>\n      <th>Feature</th>\n      <th>Display</th>\n      <th>Tide</th>\n      <th>Wisk</th>\n      <th>Era</th>\n      <th>Choice</th>\n    </tr>\n  </thead>\n  <tbody>\n    <tr>\n      <th>0</th>\n      <td>1</td>\n      <td>9</td>\n      <td>11</td>\n      <td>0.00</td>\n      <td>4.67</td>\n      <td>0</td>\n      <td>0</td>\n      <td>1</td>\n      <td>0</td>\n      <td>0</td>\n      <td>1</td>\n    </tr>\n    <tr>\n      <th>1</th>\n      <td>1</td>\n      <td>9</td>\n      <td>11</td>\n      <td>0.62</td>\n      <td>4.98</td>\n      <td>0</td>\n      <td>0</td>\n      <td>0</td>\n      <td>1</td>\n      <td>0</td>\n      <td>0</td>\n    </tr>\n    <tr>\n      <th>2</th>\n      <td>1</td>\n      <td>9</td>\n      <td>11</td>\n      <td>0.31</td>\n      <td>5.38</td>\n      <td>0</td>\n      <td>0</td>\n      <td>0</td>\n      <td>0</td>\n      <td>1</td>\n      <td>0</td>\n    </tr>\n    <tr>\n      <th>3</th>\n      <td>1</td>\n      <td>9</td>\n      <td>11</td>\n      <td>0.00</td>\n      <td>4.98</td>\n      <td>0</td>\n      <td>0</td>\n      <td>0</td>\n      <td>0</td>\n      <td>0</td>\n      <td>0</td>\n    </tr>\n    <tr>\n      <th>4</th>\n      <td>2</td>\n      <td>9</td>\n      <td>29</td>\n      <td>0.00</td>\n      <td>4.67</td>\n      <td>0</td>\n      <td>0</td>\n      <td>1</td>\n      <td>0</td>\n      <td>0</td>\n      <td>0</td>\n    </tr>\n  </tbody>\n</table>\n</div>"
     },
     "execution_count": 43,
     "metadata": {},
     "output_type": "execute_result"
    }
   ],
   "source": [
    "df.head()"
   ],
   "metadata": {
    "collapsed": false,
    "ExecuteTime": {
     "end_time": "2024-10-09T10:04:00.184009700Z",
     "start_time": "2024-10-09T10:03:59.348462200Z"
    }
   },
   "id": "3ca3e69eebf505a5"
  },
  {
   "cell_type": "code",
   "execution_count": 44,
   "outputs": [],
   "source": [
    "# Columns to convert to boolean\n",
    "boolean_columns = ['Feature', 'Display', 'Tide', 'Wisk', 'Era', 'Choice']\n",
    "\n",
    "# Convert columns to boolean\n",
    "df[boolean_columns] = df[boolean_columns].astype(bool)"
   ],
   "metadata": {
    "collapsed": false,
    "ExecuteTime": {
     "end_time": "2024-10-09T10:04:00.214254900Z",
     "start_time": "2024-10-09T10:03:59.362964800Z"
    }
   },
   "id": "383e16b53799f3b"
  },
  {
   "cell_type": "markdown",
   "source": [
    "### Verify that there are 52 households and 348 purchase occasions (true)"
   ],
   "metadata": {
    "collapsed": false
   },
   "id": "6acb87bca8a021e2"
  },
  {
   "cell_type": "code",
   "execution_count": 45,
   "outputs": [
    {
     "data": {
      "text/plain": "52"
     },
     "execution_count": 45,
     "metadata": {},
     "output_type": "execute_result"
    }
   ],
   "source": [
    "df.Household.nunique()"
   ],
   "metadata": {
    "collapsed": false,
    "ExecuteTime": {
     "end_time": "2024-10-09T10:04:00.217759200Z",
     "start_time": "2024-10-09T10:03:59.371639800Z"
    }
   },
   "id": "7ccf2b65336f760a"
  },
  {
   "cell_type": "code",
   "execution_count": 46,
   "outputs": [
    {
     "data": {
      "text/plain": "348"
     },
     "execution_count": 46,
     "metadata": {},
     "output_type": "execute_result"
    }
   ],
   "source": [
    "df.Occasion.nunique()"
   ],
   "metadata": {
    "collapsed": false,
    "ExecuteTime": {
     "end_time": "2024-10-09T10:04:00.217759200Z",
     "start_time": "2024-10-09T10:03:59.388256300Z"
    }
   },
   "id": "8a1087b3e2650da5"
  },
  {
   "cell_type": "code",
   "execution_count": 47,
   "outputs": [
    {
     "data": {
      "text/plain": "52"
     },
     "execution_count": 47,
     "metadata": {},
     "output_type": "execute_result"
    }
   ],
   "source": [
    "df.Week.nunique()"
   ],
   "metadata": {
    "collapsed": false,
    "ExecuteTime": {
     "end_time": "2024-10-09T10:04:00.222144400Z",
     "start_time": "2024-10-09T10:03:59.391259300Z"
    }
   },
   "id": "f4ba022d675a25de"
  },
  {
   "cell_type": "markdown",
   "source": [
    "### Regardless of brand, determine overall average price and percentage of time/occasions brands were on feature and on display"
   ],
   "metadata": {
    "collapsed": false
   },
   "id": "8d602d113170557"
  },
  {
   "cell_type": "code",
   "execution_count": 48,
   "outputs": [
    {
     "data": {
      "text/plain": "5.40455459770115"
     },
     "execution_count": 48,
     "metadata": {},
     "output_type": "execute_result"
    }
   ],
   "source": [
    "df['Price'].mean()"
   ],
   "metadata": {
    "collapsed": false,
    "ExecuteTime": {
     "end_time": "2024-10-09T10:04:00.222144400Z",
     "start_time": "2024-10-09T10:03:59.396973400Z"
    }
   },
   "id": "be93cb217a1302ee"
  },
  {
   "cell_type": "code",
   "execution_count": 49,
   "outputs": [
    {
     "data": {
      "text/plain": "87"
     },
     "execution_count": 49,
     "metadata": {},
     "output_type": "execute_result"
    }
   ],
   "source": [
    "df['Feature'].sum()"
   ],
   "metadata": {
    "collapsed": false,
    "ExecuteTime": {
     "end_time": "2024-10-09T10:04:00.223148200Z",
     "start_time": "2024-10-09T10:03:59.405037300Z"
    }
   },
   "id": "4295952043c0aabf"
  },
  {
   "cell_type": "markdown",
   "source": [
    "87/1392 * 100% = 6.25% of time"
   ],
   "metadata": {
    "collapsed": false
   },
   "id": "678e9cb8028a387c"
  },
  {
   "cell_type": "code",
   "execution_count": 50,
   "outputs": [
    {
     "data": {
      "text/plain": "136"
     },
     "execution_count": 50,
     "metadata": {},
     "output_type": "execute_result"
    }
   ],
   "source": [
    "df['Display'].sum()"
   ],
   "metadata": {
    "collapsed": false,
    "ExecuteTime": {
     "end_time": "2024-10-09T10:04:00.241059700Z",
     "start_time": "2024-10-09T10:03:59.409369400Z"
    }
   },
   "id": "970ae54cfa064275"
  },
  {
   "cell_type": "markdown",
   "source": [
    "136/1392 * 100% = 9.7% of time"
   ],
   "metadata": {
    "collapsed": false
   },
   "id": "68fd2f530a5130b"
  },
  {
   "cell_type": "markdown",
   "source": [
    "### Create a new column “Brand” reporting a 1-4 number representing the brand relevant for each observation (1=Tide, 2=Wisk, 3=Era, and 4=Surf)"
   ],
   "metadata": {
    "collapsed": false
   },
   "id": "6135fee8b6a72ae"
  },
  {
   "cell_type": "code",
   "execution_count": 51,
   "outputs": [],
   "source": [
    "# Create the 'Brand' column \n",
    "df['Brand'] = df[['Tide', 'Wisk', 'Era']].idxmax(axis=1).map({'Tide': 1, 'Wisk': 2, 'Era': 3})\n"
   ],
   "metadata": {
    "collapsed": false,
    "ExecuteTime": {
     "end_time": "2024-10-09T10:04:00.241059700Z",
     "start_time": "2024-10-09T10:03:59.417604900Z"
    }
   },
   "id": "a3e29c37218b3467"
  },
  {
   "cell_type": "code",
   "execution_count": 52,
   "outputs": [
    {
     "data": {
      "text/plain": "   Occasion  Household  Week  Loyalty  Price  Feature  Display   Tide   Wisk  \\\n0         1          9    11     0.00   4.67    False    False   True  False   \n1         1          9    11     0.62   4.98    False    False  False   True   \n2         1          9    11     0.31   5.38    False    False  False  False   \n3         1          9    11     0.00   4.98    False    False  False  False   \n4         2          9    29     0.00   4.67    False    False   True  False   \n5         2          9    29     0.62   4.67     True    False  False   True   \n6         2          9    29     0.31   6.55    False    False  False  False   \n7         2          9    29     0.00   4.98    False    False  False  False   \n8         3          9    31     0.00   4.67    False    False   True  False   \n9         3          9    31     0.62   4.98    False    False  False   True   \n\n     Era  Choice  Brand  \n0  False    True      1  \n1  False   False      2  \n2   True   False      3  \n3  False   False      4  \n4  False   False      1  \n5  False    True      2  \n6   True   False      3  \n7  False   False      4  \n8  False   False      1  \n9  False    True      2  ",
      "text/html": "<div>\n<style scoped>\n    .dataframe tbody tr th:only-of-type {\n        vertical-align: middle;\n    }\n\n    .dataframe tbody tr th {\n        vertical-align: top;\n    }\n\n    .dataframe thead th {\n        text-align: right;\n    }\n</style>\n<table border=\"1\" class=\"dataframe\">\n  <thead>\n    <tr style=\"text-align: right;\">\n      <th></th>\n      <th>Occasion</th>\n      <th>Household</th>\n      <th>Week</th>\n      <th>Loyalty</th>\n      <th>Price</th>\n      <th>Feature</th>\n      <th>Display</th>\n      <th>Tide</th>\n      <th>Wisk</th>\n      <th>Era</th>\n      <th>Choice</th>\n      <th>Brand</th>\n    </tr>\n  </thead>\n  <tbody>\n    <tr>\n      <th>0</th>\n      <td>1</td>\n      <td>9</td>\n      <td>11</td>\n      <td>0.00</td>\n      <td>4.67</td>\n      <td>False</td>\n      <td>False</td>\n      <td>True</td>\n      <td>False</td>\n      <td>False</td>\n      <td>True</td>\n      <td>1</td>\n    </tr>\n    <tr>\n      <th>1</th>\n      <td>1</td>\n      <td>9</td>\n      <td>11</td>\n      <td>0.62</td>\n      <td>4.98</td>\n      <td>False</td>\n      <td>False</td>\n      <td>False</td>\n      <td>True</td>\n      <td>False</td>\n      <td>False</td>\n      <td>2</td>\n    </tr>\n    <tr>\n      <th>2</th>\n      <td>1</td>\n      <td>9</td>\n      <td>11</td>\n      <td>0.31</td>\n      <td>5.38</td>\n      <td>False</td>\n      <td>False</td>\n      <td>False</td>\n      <td>False</td>\n      <td>True</td>\n      <td>False</td>\n      <td>3</td>\n    </tr>\n    <tr>\n      <th>3</th>\n      <td>1</td>\n      <td>9</td>\n      <td>11</td>\n      <td>0.00</td>\n      <td>4.98</td>\n      <td>False</td>\n      <td>False</td>\n      <td>False</td>\n      <td>False</td>\n      <td>False</td>\n      <td>False</td>\n      <td>4</td>\n    </tr>\n    <tr>\n      <th>4</th>\n      <td>2</td>\n      <td>9</td>\n      <td>29</td>\n      <td>0.00</td>\n      <td>4.67</td>\n      <td>False</td>\n      <td>False</td>\n      <td>True</td>\n      <td>False</td>\n      <td>False</td>\n      <td>False</td>\n      <td>1</td>\n    </tr>\n    <tr>\n      <th>5</th>\n      <td>2</td>\n      <td>9</td>\n      <td>29</td>\n      <td>0.62</td>\n      <td>4.67</td>\n      <td>True</td>\n      <td>False</td>\n      <td>False</td>\n      <td>True</td>\n      <td>False</td>\n      <td>True</td>\n      <td>2</td>\n    </tr>\n    <tr>\n      <th>6</th>\n      <td>2</td>\n      <td>9</td>\n      <td>29</td>\n      <td>0.31</td>\n      <td>6.55</td>\n      <td>False</td>\n      <td>False</td>\n      <td>False</td>\n      <td>False</td>\n      <td>True</td>\n      <td>False</td>\n      <td>3</td>\n    </tr>\n    <tr>\n      <th>7</th>\n      <td>2</td>\n      <td>9</td>\n      <td>29</td>\n      <td>0.00</td>\n      <td>4.98</td>\n      <td>False</td>\n      <td>False</td>\n      <td>False</td>\n      <td>False</td>\n      <td>False</td>\n      <td>False</td>\n      <td>4</td>\n    </tr>\n    <tr>\n      <th>8</th>\n      <td>3</td>\n      <td>9</td>\n      <td>31</td>\n      <td>0.00</td>\n      <td>4.67</td>\n      <td>False</td>\n      <td>False</td>\n      <td>True</td>\n      <td>False</td>\n      <td>False</td>\n      <td>False</td>\n      <td>1</td>\n    </tr>\n    <tr>\n      <th>9</th>\n      <td>3</td>\n      <td>9</td>\n      <td>31</td>\n      <td>0.62</td>\n      <td>4.98</td>\n      <td>False</td>\n      <td>False</td>\n      <td>False</td>\n      <td>True</td>\n      <td>False</td>\n      <td>True</td>\n      <td>2</td>\n    </tr>\n  </tbody>\n</table>\n</div>"
     },
     "execution_count": 52,
     "metadata": {},
     "output_type": "execute_result"
    }
   ],
   "source": [
    "# For rows where all the values are 0 (no brand selected), assign 4 (for Surf)\n",
    "df['Brand'] = df.apply(lambda row: 4 if (row['Tide'] == 0 and row['Wisk'] == 0 and row['Era'] == 0) else row['Brand'], axis=1)\n",
    "\n",
    "df.head(10)"
   ],
   "metadata": {
    "collapsed": false,
    "ExecuteTime": {
     "end_time": "2024-10-09T10:04:00.242152400Z",
     "start_time": "2024-10-09T10:03:59.423757600Z"
    }
   },
   "id": "7754587852166e6f"
  },
  {
   "cell_type": "markdown",
   "source": [
    "### Compute the market share for each brand in this dataset"
   ],
   "metadata": {
    "collapsed": false
   },
   "id": "934f64269ef8795e"
  },
  {
   "cell_type": "code",
   "execution_count": 53,
   "outputs": [],
   "source": [
    "# Function to determine the brand\n",
    "def determine_brand(row):\n",
    "    if row['Tide']:\n",
    "        return 'Tide'\n",
    "    elif row['Wisk']:\n",
    "        return 'Wisk'\n",
    "    elif row['Era']:\n",
    "        return 'Era'\n",
    "    else:\n",
    "        return None"
   ],
   "metadata": {
    "collapsed": false,
    "ExecuteTime": {
     "end_time": "2024-10-09T10:04:00.317155Z",
     "start_time": "2024-10-09T10:03:59.449376300Z"
    }
   },
   "id": "96386fcffefdf35f"
  },
  {
   "cell_type": "code",
   "execution_count": 54,
   "outputs": [
    {
     "data": {
      "text/plain": "     Occasion  Household  Week Brand chosen\n0           1          9    11         Tide\n1           2          9    29         Wisk\n2           3          9    31         Wisk\n3           4          9    43         Wisk\n4           5          9    45         Wisk\n..        ...        ...   ...          ...\n343       344        285    49         Wisk\n344       345        289     5         Surf\n345       346        289    14         Surf\n346       347        289    32         Surf\n347       348        289    37         Surf\n\n[348 rows x 4 columns]",
      "text/html": "<div>\n<style scoped>\n    .dataframe tbody tr th:only-of-type {\n        vertical-align: middle;\n    }\n\n    .dataframe tbody tr th {\n        vertical-align: top;\n    }\n\n    .dataframe thead th {\n        text-align: right;\n    }\n</style>\n<table border=\"1\" class=\"dataframe\">\n  <thead>\n    <tr style=\"text-align: right;\">\n      <th></th>\n      <th>Occasion</th>\n      <th>Household</th>\n      <th>Week</th>\n      <th>Brand chosen</th>\n    </tr>\n  </thead>\n  <tbody>\n    <tr>\n      <th>0</th>\n      <td>1</td>\n      <td>9</td>\n      <td>11</td>\n      <td>Tide</td>\n    </tr>\n    <tr>\n      <th>1</th>\n      <td>2</td>\n      <td>9</td>\n      <td>29</td>\n      <td>Wisk</td>\n    </tr>\n    <tr>\n      <th>2</th>\n      <td>3</td>\n      <td>9</td>\n      <td>31</td>\n      <td>Wisk</td>\n    </tr>\n    <tr>\n      <th>3</th>\n      <td>4</td>\n      <td>9</td>\n      <td>43</td>\n      <td>Wisk</td>\n    </tr>\n    <tr>\n      <th>4</th>\n      <td>5</td>\n      <td>9</td>\n      <td>45</td>\n      <td>Wisk</td>\n    </tr>\n    <tr>\n      <th>...</th>\n      <td>...</td>\n      <td>...</td>\n      <td>...</td>\n      <td>...</td>\n    </tr>\n    <tr>\n      <th>343</th>\n      <td>344</td>\n      <td>285</td>\n      <td>49</td>\n      <td>Wisk</td>\n    </tr>\n    <tr>\n      <th>344</th>\n      <td>345</td>\n      <td>289</td>\n      <td>5</td>\n      <td>Surf</td>\n    </tr>\n    <tr>\n      <th>345</th>\n      <td>346</td>\n      <td>289</td>\n      <td>14</td>\n      <td>Surf</td>\n    </tr>\n    <tr>\n      <th>346</th>\n      <td>347</td>\n      <td>289</td>\n      <td>32</td>\n      <td>Surf</td>\n    </tr>\n    <tr>\n      <th>347</th>\n      <td>348</td>\n      <td>289</td>\n      <td>37</td>\n      <td>Surf</td>\n    </tr>\n  </tbody>\n</table>\n<p>348 rows × 4 columns</p>\n</div>"
     },
     "execution_count": 54,
     "metadata": {},
     "output_type": "execute_result"
    }
   ],
   "source": [
    "# Filter rows where Choice is True\n",
    "result_df = df[df['Choice']].copy()\n",
    "\n",
    "# Apply the brand determination function\n",
    "result_df['Brand chosen'] = result_df.apply(determine_brand, axis=1)\n",
    "\n",
    "result_df = result_df[['Occasion', 'Household', 'Week', 'Brand chosen']]\n",
    "# Replace None values with 'Surf' in 'Brand chosen' column\n",
    "result_df['Brand chosen'] = result_df['Brand chosen'].fillna('Surf')\n",
    "# Reset the index for cleaner output\n",
    "result_df.reset_index(drop=True, inplace=True)\n",
    "\n",
    "result_df"
   ],
   "metadata": {
    "collapsed": false,
    "ExecuteTime": {
     "end_time": "2024-10-09T10:04:00.334147400Z",
     "start_time": "2024-10-09T10:03:59.453225900Z"
    }
   },
   "id": "a32e22f34af943bd"
  },
  {
   "cell_type": "code",
   "execution_count": 55,
   "outputs": [
    {
     "data": {
      "text/plain": "Brand chosen\nWisk    51.436782\nTide    23.850575\nSurf    12.643678\nEra     12.068966\nName: count, dtype: float64"
     },
     "execution_count": 55,
     "metadata": {},
     "output_type": "execute_result"
    }
   ],
   "source": [
    "# Count the number of times each brand was chosen\n",
    "brand_counts = result_df['Brand chosen'].value_counts()\n",
    "\n",
    "# Calculate the market share for each brand\n",
    "market_share = (brand_counts / 348) * 100\n",
    "\n",
    "market_share"
   ],
   "metadata": {
    "collapsed": false,
    "ExecuteTime": {
     "end_time": "2024-10-09T10:04:00.335147900Z",
     "start_time": "2024-10-09T10:03:59.471953400Z"
    }
   },
   "id": "b2de2f2c0d7ec438"
  },
  {
   "cell_type": "markdown",
   "source": [
    "### Compute average price and feature/display frequency, separately for each brand"
   ],
   "metadata": {
    "collapsed": false
   },
   "id": "f547cf9164961201"
  },
  {
   "cell_type": "code",
   "execution_count": 56,
   "outputs": [
    {
     "data": {
      "text/plain": "Brand\n1    5.856753\n2    4.651897\n3    5.955891\n4    5.153678\nName: Price, dtype: float64"
     },
     "execution_count": 56,
     "metadata": {},
     "output_type": "execute_result"
    }
   ],
   "source": [
    "# Compute average price for each brand\n",
    "average_price = df.groupby('Brand')['Price'].mean()\n",
    "average_price"
   ],
   "metadata": {
    "collapsed": false,
    "ExecuteTime": {
     "end_time": "2024-10-09T10:04:00.335147900Z",
     "start_time": "2024-10-09T10:03:59.478861200Z"
    }
   },
   "id": "51cb5d0e5e923e06"
  },
  {
   "cell_type": "markdown",
   "source": [
    "Tide, Wisk, Era, Surf"
   ],
   "metadata": {
    "collapsed": false
   },
   "id": "4f0cfa247ee87064"
  },
  {
   "cell_type": "code",
   "execution_count": 57,
   "outputs": [
    {
     "data": {
      "text/plain": "Brand\n1    22\n2    36\n3     9\n4    20\nName: Feature, dtype: int64"
     },
     "execution_count": 57,
     "metadata": {},
     "output_type": "execute_result"
    }
   ],
   "source": [
    "feature_frequency = df.groupby('Brand')['Feature'].sum()\n",
    "feature_frequency "
   ],
   "metadata": {
    "collapsed": false,
    "ExecuteTime": {
     "end_time": "2024-10-09T10:04:00.338148500Z",
     "start_time": "2024-10-09T10:03:59.489532400Z"
    }
   },
   "id": "f3038028b2ef2ba8"
  },
  {
   "cell_type": "code",
   "execution_count": 58,
   "outputs": [
    {
     "data": {
      "text/plain": "Brand\n1    49\n2    61\n3    11\n4    15\nName: Display, dtype: int64"
     },
     "execution_count": 58,
     "metadata": {},
     "output_type": "execute_result"
    }
   ],
   "source": [
    "display_frequency = df.groupby('Brand')['Display'].sum()\n",
    "display_frequency"
   ],
   "metadata": {
    "collapsed": false,
    "ExecuteTime": {
     "end_time": "2024-10-09T10:04:00.338148500Z",
     "start_time": "2024-10-09T10:03:59.494888600Z"
    }
   },
   "id": "e5f8948b0618bccc"
  },
  {
   "cell_type": "markdown",
   "source": [
    "we can see that Wisk was featured and displayed the most"
   ],
   "metadata": {
    "collapsed": false
   },
   "id": "21f7a7400c0c06aa"
  },
  {
   "cell_type": "markdown",
   "source": [
    "### Plot \"purchases per week\""
   ],
   "metadata": {
    "collapsed": false
   },
   "id": "6f8531e48efd13d5"
  },
  {
   "cell_type": "code",
   "execution_count": 59,
   "outputs": [],
   "source": [
    "import matplotlib.pyplot as plt"
   ],
   "metadata": {
    "collapsed": false,
    "ExecuteTime": {
     "end_time": "2024-10-09T10:04:00.338148500Z",
     "start_time": "2024-10-09T10:03:59.499744600Z"
    }
   },
   "id": "9aa18930d6ad4d63"
  },
  {
   "cell_type": "code",
   "execution_count": 60,
   "outputs": [
    {
     "data": {
      "text/plain": "Week\n1     18\n2     13\n3      7\n4      9\n5      7\n6      8\n7      9\n8      5\n9      4\n10    13\n11    16\n12     2\n13     5\n14     7\n15     7\n16     5\n17     6\n18     2\n19     7\n20     1\n21     8\n22     3\n23     5\n24     2\n25     2\n26     5\n27     7\n28     4\n29     5\n30     4\n31     5\n32     8\n33    10\n34     4\n35     4\n36     8\n37     8\n38     2\n39     7\n40     7\n41    11\n42     9\n43     8\n44     5\n45     9\n46     2\n47     9\n48     6\n49    10\n50    11\n51     3\n52     6\nName: Choice, dtype: int64"
     },
     "execution_count": 60,
     "metadata": {},
     "output_type": "execute_result"
    }
   ],
   "source": [
    "purchases_per_week = df.groupby('Week')['Choice'].sum()\n",
    "purchases_per_week"
   ],
   "metadata": {
    "collapsed": false,
    "ExecuteTime": {
     "end_time": "2024-10-09T10:04:00.339148200Z",
     "start_time": "2024-10-09T10:03:59.505638400Z"
    }
   },
   "id": "59e0e72e486004a2"
  },
  {
   "cell_type": "code",
   "execution_count": 61,
   "outputs": [
    {
     "data": {
      "text/plain": "<Figure size 1000x600 with 1 Axes>",
      "image/png": "[encoded data removed]"
     },
     "metadata": {},
     "output_type": "display_data"
    }
   ],
   "source": [
    "# Plotting the results\n",
    "plt.figure(figsize=(10, 6))\n",
    "purchases_per_week.plot(kind='bar', color='skyblue')\n",
    "plt.title('Total Purchases Per Week')\n",
    "plt.xlabel('Week')\n",
    "plt.ylabel('Total Purchases')\n",
    "plt.xticks(rotation=45)  # Rotate week labels for better visibility\n",
    "plt.grid(axis='y', linestyle='--', alpha=0.7)  # Add gridlines for better readability\n",
    "plt.tight_layout()  # Adjust layout to make room for labels\n",
    "\n",
    "# Show the plot\n",
    "plt.show()"
   ],
   "metadata": {
    "collapsed": false,
    "ExecuteTime": {
     "end_time": "2024-10-09T10:04:00.748329300Z",
     "start_time": "2024-10-09T10:03:59.512132300Z"
    }
   },
   "id": "47fe206f56542805"
  },
  {
   "cell_type": "markdown",
   "source": [
    "### Find households that are most/least frequent buyers of liquid laundry detergent"
   ],
   "metadata": {
    "collapsed": false
   },
   "id": "243f833a866e7430"
  },
  {
   "cell_type": "code",
   "execution_count": 62,
   "outputs": [
    {
     "data": {
      "text/plain": "Household\n9       7\n11      5\n12      8\n15      6\n16      5\n21      7\n34      9\n42     10\n43      4\n46      8\n96      7\n113     4\n119     7\n130     4\n132     4\n147     5\n154    12\n156     6\n157     4\n160     4\n164     4\n166     5\n168     4\n171     5\n179     4\n184     5\n186     5\n190     8\n192     5\n201    12\n203    13\n204     6\n206     5\n208    14\n219    12\n223     9\n232     8\n234     7\n239     4\n244     6\n252     4\n256     4\n264     9\n266     5\n268     6\n269    14\n271     7\n273     7\n275     7\n278     8\n285     6\n289     4\nName: Choice, dtype: int64"
     },
     "execution_count": 62,
     "metadata": {},
     "output_type": "execute_result"
    }
   ],
   "source": [
    "# Group by household and count purchases\n",
    "purchase_counts = df.groupby('Household')['Choice'].sum()\n",
    "purchase_counts"
   ],
   "metadata": {
    "collapsed": false,
    "ExecuteTime": {
     "end_time": "2024-10-09T10:04:00.748329300Z",
     "start_time": "2024-10-09T10:04:00.064909500Z"
    }
   },
   "id": "900053c8a1360387"
  },
  {
   "cell_type": "code",
   "execution_count": 63,
   "outputs": [
    {
     "data": {
      "text/plain": "Household\n208    14\n269    14\n203    13\n154    12\n201    12\n219    12\n42     10\n34      9\n223     9\n264     9\nName: Choice, dtype: int64"
     },
     "execution_count": 63,
     "metadata": {},
     "output_type": "execute_result"
    }
   ],
   "source": [
    "most_frequent_buyers = purchase_counts.nlargest(10)  # Top 10 households\n",
    "most_frequent_buyers"
   ],
   "metadata": {
    "collapsed": false,
    "ExecuteTime": {
     "end_time": "2024-10-09T10:04:00.748329300Z",
     "start_time": "2024-10-09T10:04:00.072277700Z"
    }
   },
   "id": "52da9cb2aa44cc43"
  },
  {
   "cell_type": "code",
   "execution_count": 64,
   "outputs": [
    {
     "data": {
      "text/plain": "Household\n43     4\n113    4\n130    4\n132    4\n157    4\n160    4\n164    4\n168    4\n179    4\n239    4\nName: Choice, dtype: int64"
     },
     "execution_count": 64,
     "metadata": {},
     "output_type": "execute_result"
    }
   ],
   "source": [
    "least_frequent_buyers = purchase_counts.nsmallest(10)  # Bottom 10 households\n",
    "least_frequent_buyers"
   ],
   "metadata": {
    "collapsed": false,
    "ExecuteTime": {
     "end_time": "2024-10-09T10:04:00.749328200Z",
     "start_time": "2024-10-09T10:04:00.078405Z"
    }
   },
   "id": "575070c1ee8da6c0"
  },
  {
   "cell_type": "markdown",
   "source": [
    "### Do low prices increase sales (as one might expect)? Could this data help answer this question? Experiment with approaches (including graphical) to validate this hypothesis based on this dataset"
   ],
   "metadata": {
    "collapsed": false
   },
   "id": "1b532e190417437"
  },
  {
   "cell_type": "code",
   "execution_count": 65,
   "outputs": [
    {
     "name": "stdout",
     "output_type": "stream",
     "text": [
      "Choice\n",
      "False    5.557653\n",
      "True     4.945259\n",
      "Name: Price, dtype: float64\n"
     ]
    }
   ],
   "source": [
    "# Group data by purchase (Choice) and calculate the average price for each group\n",
    "average_prices = df.groupby('Choice')['Price'].mean()\n",
    "\n",
    "print(average_prices)"
   ],
   "metadata": {
    "collapsed": false,
    "ExecuteTime": {
     "end_time": "2024-10-09T10:04:00.749328200Z",
     "start_time": "2024-10-09T10:04:00.088909600Z"
    }
   },
   "id": "ce8dce379742d5ae"
  },
  {
   "cell_type": "code",
   "execution_count": 66,
   "outputs": [
    {
     "name": "stdout",
     "output_type": "stream",
     "text": [
      "Requirement already satisfied: seaborn in c:\\users\\aser\\appdata\\local\\programs\\python\\python312\\lib\\site-packages (0.13.2)\n",
      "Requirement already satisfied: numpy!=1.24.0,>=1.20 in c:\\users\\aser\\appdata\\local\\programs\\python\\python312\\lib\\site-packages (from seaborn) (1.26.0)\n",
      "Requirement already satisfied: pandas>=1.2 in c:\\users\\aser\\appdata\\local\\programs\\python\\python312\\lib\\site-packages (from seaborn) (2.1.1)\n",
      "Requirement already satisfied: matplotlib!=3.6.1,>=3.4 in c:\\users\\aser\\appdata\\local\\programs\\python\\python312\\lib\\site-packages (from seaborn) (3.8.0)\n",
      "Requirement already satisfied: contourpy>=1.0.1 in c:\\users\\aser\\appdata\\local\\programs\\python\\python312\\lib\\site-packages (from matplotlib!=3.6.1,>=3.4->seaborn) (1.1.1)\n",
      "Requirement already satisfied: cycler>=0.10 in c:\\users\\aser\\appdata\\local\\programs\\python\\python312\\lib\\site-packages (from matplotlib!=3.6.1,>=3.4->seaborn) (0.12.1)\n",
      "Requirement already satisfied: fonttools>=4.22.0 in c:\\users\\aser\\appdata\\local\\programs\\python\\python312\\lib\\site-packages (from matplotlib!=3.6.1,>=3.4->seaborn) (4.43.1)\n",
      "Requirement already satisfied: kiwisolver>=1.0.1 in c:\\users\\aser\\appdata\\local\\programs\\python\\python312\\lib\\site-packages (from matplotlib!=3.6.1,>=3.4->seaborn) (1.4.5)\n",
      "Requirement already satisfied: packaging>=20.0 in c:\\users\\aser\\appdata\\local\\programs\\python\\python312\\lib\\site-packages (from matplotlib!=3.6.1,>=3.4->seaborn) (23.2)\n",
      "Requirement already satisfied: pillow>=6.2.0 in c:\\users\\aser\\appdata\\local\\programs\\python\\python312\\lib\\site-packages (from matplotlib!=3.6.1,>=3.4->seaborn) (10.0.1)\n",
      "Requirement already satisfied: pyparsing>=2.3.1 in c:\\users\\aser\\appdata\\local\\programs\\python\\python312\\lib\\site-packages (from matplotlib!=3.6.1,>=3.4->seaborn) (3.1.1)\n",
      "Requirement already satisfied: python-dateutil>=2.7 in c:\\users\\aser\\appdata\\local\\programs\\python\\python312\\lib\\site-packages (from matplotlib!=3.6.1,>=3.4->seaborn) (2.8.2)\n",
      "Requirement already satisfied: pytz>=2020.1 in c:\\users\\aser\\appdata\\local\\programs\\python\\python312\\lib\\site-packages (from pandas>=1.2->seaborn) (2023.3.post1)\n",
      "Requirement already satisfied: tzdata>=2022.1 in c:\\users\\aser\\appdata\\local\\programs\\python\\python312\\lib\\site-packages (from pandas>=1.2->seaborn) (2023.3)\n",
      "Requirement already satisfied: six>=1.5 in c:\\users\\aser\\appdata\\local\\programs\\python\\python312\\lib\\site-packages (from python-dateutil>=2.7->matplotlib!=3.6.1,>=3.4->seaborn) (1.16.0)\n"
     ]
    },
    {
     "name": "stderr",
     "output_type": "stream",
     "text": [
      "\n",
      "[notice] A new release of pip is available: 23.3.1 -> 24.2\n",
      "[notice] To update, run: python.exe -m pip install --upgrade pip\n"
     ]
    }
   ],
   "source": [
    "!pip install seaborn"
   ],
   "metadata": {
    "collapsed": false,
    "ExecuteTime": {
     "end_time": "2024-10-09T10:04:03.559928900Z",
     "start_time": "2024-10-09T10:04:00.093089400Z"
    }
   },
   "id": "883f5b42b76be7a7"
  },
  {
   "cell_type": "code",
   "execution_count": 67,
   "outputs": [],
   "source": [
    "import seaborn as sns"
   ],
   "metadata": {
    "collapsed": false,
    "ExecuteTime": {
     "end_time": "2024-10-09T10:04:03.561253100Z",
     "start_time": "2024-10-09T10:04:03.424697800Z"
    }
   },
   "id": "b6cf9061859c5016"
  },
  {
   "cell_type": "code",
   "execution_count": 68,
   "outputs": [
    {
     "data": {
      "text/plain": "<Figure size 640x480 with 1 Axes>",
      "image/png": "[encoded data removed]"
     },
     "metadata": {},
     "output_type": "display_data"
    }
   ],
   "source": [
    "# Plot price distribution for purchases and non-purchases\n",
    "sns.boxplot(x='Choice', y='Price', data=df)\n",
    "plt.title('Price Distribution for Purchases and Non-Purchases')\n",
    "plt.xlabel('Choice (0 = No Purchase, 1 = Purchase)')\n",
    "plt.ylabel('Price')\n",
    "plt.show()"
   ],
   "metadata": {
    "collapsed": false,
    "ExecuteTime": {
     "end_time": "2024-10-09T10:04:03.561253100Z",
     "start_time": "2024-10-09T10:04:03.428964200Z"
    }
   },
   "id": "c82af6570864d05b"
  },
  {
   "cell_type": "code",
   "execution_count": 69,
   "outputs": [
    {
     "data": {
      "text/plain": "           Price    Choice\nPrice   1.000000 -0.301579\nChoice -0.301579  1.000000",
      "text/html": "<div>\n<style scoped>\n    .dataframe tbody tr th:only-of-type {\n        vertical-align: middle;\n    }\n\n    .dataframe tbody tr th {\n        vertical-align: top;\n    }\n\n    .dataframe thead th {\n        text-align: right;\n    }\n</style>\n<table border=\"1\" class=\"dataframe\">\n  <thead>\n    <tr style=\"text-align: right;\">\n      <th></th>\n      <th>Price</th>\n      <th>Choice</th>\n    </tr>\n  </thead>\n  <tbody>\n    <tr>\n      <th>Price</th>\n      <td>1.000000</td>\n      <td>-0.301579</td>\n    </tr>\n    <tr>\n      <th>Choice</th>\n      <td>-0.301579</td>\n      <td>1.000000</td>\n    </tr>\n  </tbody>\n</table>\n</div>"
     },
     "execution_count": 69,
     "metadata": {},
     "output_type": "execute_result"
    }
   ],
   "source": [
    "df[['Price', 'Choice']].corr()"
   ],
   "metadata": {
    "collapsed": false,
    "ExecuteTime": {
     "end_time": "2024-10-09T10:04:03.588498400Z",
     "start_time": "2024-10-09T10:04:03.572747300Z"
    }
   },
   "id": "3c6821bc6d6fc090"
  },
  {
   "cell_type": "markdown",
   "source": [
    "### Do promotional features (like displays or discounts) impact sales?"
   ],
   "metadata": {
    "collapsed": false
   },
   "id": "12c14ff632701de8"
  },
  {
   "cell_type": "code",
   "execution_count": 70,
   "outputs": [
    {
     "data": {
      "text/plain": "Feature\nFalse    22.681992\nTrue     59.770115\nName: Choice, dtype: float64"
     },
     "execution_count": 70,
     "metadata": {},
     "output_type": "execute_result"
    }
   ],
   "source": [
    "# Group by Feature and calculate the percentage of products chosen\n",
    "feature_sales = df.groupby('Feature')['Choice'].mean() * 100\n",
    "feature_sales"
   ],
   "metadata": {
    "collapsed": false,
    "ExecuteTime": {
     "end_time": "2024-10-09T10:04:03.802705500Z",
     "start_time": "2024-10-09T10:04:03.575190600Z"
    }
   },
   "id": "c69309e271b7e37a"
  },
  {
   "cell_type": "code",
   "execution_count": 71,
   "outputs": [
    {
     "data": {
      "text/plain": "Display\nFalse    21.496815\nTrue     57.352941\nName: Choice, dtype: float64"
     },
     "execution_count": 71,
     "metadata": {},
     "output_type": "execute_result"
    }
   ],
   "source": [
    "display_sales = df.groupby('Display')['Choice'].mean() * 100\n",
    "display_sales"
   ],
   "metadata": {
    "collapsed": false,
    "ExecuteTime": {
     "end_time": "2024-10-09T10:04:03.803707Z",
     "start_time": "2024-10-09T10:04:03.617576400Z"
    }
   },
   "id": "18473a2002881025"
  },
  {
   "cell_type": "markdown",
   "source": [
    "### Do loyal customers respond differently to promotions compared to non-loyal customers?"
   ],
   "metadata": {
    "collapsed": false
   },
   "id": "4bde775d5f4463ac"
  },
  {
   "cell_type": "code",
   "execution_count": 72,
   "outputs": [
    {
     "data": {
      "text/plain": "Loyal_Customer  Feature\nFalse           False       8.118434\n                True       44.067797\nTrue            False      81.782946\n                True       92.857143\nName: Choice, dtype: float64"
     },
     "execution_count": 72,
     "metadata": {},
     "output_type": "execute_result"
    }
   ],
   "source": [
    "df['Loyal_Customer'] = df['Loyalty'] > 0.5\n",
    "\n",
    "# Group by loyalty and promotions (Feature and Display) to calculate purchase rates\n",
    "loyalty_feature_sales = df.groupby(['Loyal_Customer', 'Feature'])['Choice'].mean() * 100\n",
    "loyalty_feature_sales"
   ],
   "metadata": {
    "collapsed": false,
    "ExecuteTime": {
     "end_time": "2024-10-09T10:04:03.842734500Z",
     "start_time": "2024-10-09T10:04:03.686752700Z"
    }
   },
   "id": "5274d862a7477243"
  },
  {
   "cell_type": "code",
   "execution_count": 73,
   "outputs": [
    {
     "data": {
      "text/plain": "<Figure size 640x480 with 1 Axes>",
      "image/png": "[encoded data removed]"
     },
     "metadata": {},
     "output_type": "display_data"
    }
   ],
   "source": [
    "# Visualize purchase rates by loyalty and promotional feature\n",
    "sns.barplot(x='Feature', y='Choice', hue='Loyal_Customer', data=df, estimator=lambda x: sum(x) / len(x) * 100)\n",
    "plt.title('Purchase Rate by Loyalty and Promotional Feature')\n",
    "plt.ylabel('Purchase Rate (%)')\n",
    "plt.xlabel('Promotional Feature (True/False)')\n",
    "plt.legend(title='Loyal Customer')\n",
    "plt.show()"
   ],
   "metadata": {
    "collapsed": false,
    "ExecuteTime": {
     "end_time": "2024-10-09T10:04:04.086929900Z",
     "start_time": "2024-10-09T10:04:03.726250900Z"
    }
   },
   "id": "6db9047c5e4f05e9"
  },
  {
   "cell_type": "code",
   "execution_count": 74,
   "outputs": [
    {
     "data": {
      "text/plain": "Loyal_Customer  Display\nFalse           False       7.396450\n                True       39.130435\nTrue            False      80.578512\n                True       95.454545\nName: Choice, dtype: float64"
     },
     "execution_count": 74,
     "metadata": {},
     "output_type": "execute_result"
    }
   ],
   "source": [
    "loyalty_display_sales = df.groupby(['Loyal_Customer', 'Display'])['Choice'].mean() * 100\n",
    "loyalty_display_sales"
   ],
   "metadata": {
    "collapsed": false,
    "ExecuteTime": {
     "end_time": "2024-10-09T10:04:04.087941400Z",
     "start_time": "2024-10-09T10:04:04.057758200Z"
    }
   },
   "id": "169ce8ca1fd781b1"
  },
  {
   "cell_type": "code",
   "execution_count": 75,
   "outputs": [
    {
     "data": {
      "text/plain": "<Figure size 640x480 with 1 Axes>",
      "image/png": "[encoded data removed]"
     },
     "metadata": {},
     "output_type": "display_data"
    }
   ],
   "source": [
    "# Visualize purchase rates by loyalty and display\n",
    "sns.barplot(x='Display', y='Choice', hue='Loyal_Customer', data=df, estimator=lambda x: sum(x) / len(x) * 100)\n",
    "plt.title('Purchase Rate by Loyalty and In-Store Display')\n",
    "plt.ylabel('Purchase Rate (%)')\n",
    "plt.xlabel('In-Store Display (True/False)')\n",
    "plt.legend(title='Loyal Customer')\n",
    "plt.show()"
   ],
   "metadata": {
    "collapsed": false,
    "ExecuteTime": {
     "end_time": "2024-10-09T10:04:04.719281700Z",
     "start_time": "2024-10-09T10:04:04.068803200Z"
    }
   },
   "id": "c2c1787d6b5b553"
  },
  {
   "cell_type": "markdown",
   "source": [
    "example:\n",
    "Let’s assume there're 100 loyal customers split between those who saw a display and those who didn’t:\n",
    "\n",
    "50 customers saw a display (Display = True), and 47 of them made a purchase (95%).\n",
    "50 customers didn’t see a display (Display = False), and 40 of them made a purchase (80%)."
   ],
   "metadata": {
    "collapsed": false
   },
   "id": "dfa170da02d587a8"
  },
  {
   "cell_type": "markdown",
   "source": [
    "Basically purchasing rates of loyal customers are high either way (with or without promotion), it's only slightly higher in case of seeing the promotion. But for the rest (not loyal) promotion seems to be significantly more effective (though there're less purchases in total for this group)."
   ],
   "metadata": {
    "collapsed": false
   },
   "id": "d443316a1203855e"
  }
 ],
 "metadata": {
  "kernelspec": {
   "display_name": "Python 3",
   "language": "python",
   "name": "python3"
  },
  "language_info": {
   "codemirror_mode": {
    "name": "ipython",
    "version": 2
   },
   "file_extension": ".py",
   "mimetype": "text/x-python",
   "name": "python",
   "nbconvert_exporter": "python",
   "pygments_lexer": "ipython2",
   "version": "2.7.6"
  }
 },
 "nbformat": 4,
 "nbformat_minor": 5
}
