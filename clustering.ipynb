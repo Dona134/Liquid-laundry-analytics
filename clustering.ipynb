{
 "cells": [
  {
   "cell_type": "code",
   "execution_count": 33,
   "metadata": {
    "ExecuteTime": {
     "end_time": "2024-10-14T15:07:31.345466500Z",
     "start_time": "2024-10-14T15:07:30.441649600Z"
    }
   },
   "outputs": [],
   "source": [
    "import pandas as pd\n",
    "df = pd.read_csv('LLDB-data.csv', sep='|', skiprows=1, index_col=0)"
   ]
  },
  {
   "cell_type": "code",
   "execution_count": 34,
   "outputs": [
    {
     "data": {
      "text/plain": "   Occasion  Household  Week  Loyalty  Price  Feature  Display  Tide  Wisk  \\\n0         1          9    11     0.00   4.67        0        0     1     0   \n1         1          9    11     0.62   4.98        0        0     0     1   \n2         1          9    11     0.31   5.38        0        0     0     0   \n3         1          9    11     0.00   4.98        0        0     0     0   \n4         2          9    29     0.00   4.67        0        0     1     0   \n\n   Era  Choice  \n0    0       1  \n1    0       0  \n2    1       0  \n3    0       0  \n4    0       0  ",
      "text/html": "<div>\n<style scoped>\n    .dataframe tbody tr th:only-of-type {\n        vertical-align: middle;\n    }\n\n    .dataframe tbody tr th {\n        vertical-align: top;\n    }\n\n    .dataframe thead th {\n        text-align: right;\n    }\n</style>\n<table border=\"1\" class=\"dataframe\">\n  <thead>\n    <tr style=\"text-align: right;\">\n      <th></th>\n      <th>Occasion</th>\n      <th>Household</th>\n      <th>Week</th>\n      <th>Loyalty</th>\n      <th>Price</th>\n      <th>Feature</th>\n      <th>Display</th>\n      <th>Tide</th>\n      <th>Wisk</th>\n      <th>Era</th>\n      <th>Choice</th>\n    </tr>\n  </thead>\n  <tbody>\n    <tr>\n      <th>0</th>\n      <td>1</td>\n      <td>9</td>\n      <td>11</td>\n      <td>0.00</td>\n      <td>4.67</td>\n      <td>0</td>\n      <td>0</td>\n      <td>1</td>\n      <td>0</td>\n      <td>0</td>\n      <td>1</td>\n    </tr>\n    <tr>\n      <th>1</th>\n      <td>1</td>\n      <td>9</td>\n      <td>11</td>\n      <td>0.62</td>\n      <td>4.98</td>\n      <td>0</td>\n      <td>0</td>\n      <td>0</td>\n      <td>1</td>\n      <td>0</td>\n      <td>0</td>\n    </tr>\n    <tr>\n      <th>2</th>\n      <td>1</td>\n      <td>9</td>\n      <td>11</td>\n      <td>0.31</td>\n      <td>5.38</td>\n      <td>0</td>\n      <td>0</td>\n      <td>0</td>\n      <td>0</td>\n      <td>1</td>\n      <td>0</td>\n    </tr>\n    <tr>\n      <th>3</th>\n      <td>1</td>\n      <td>9</td>\n      <td>11</td>\n      <td>0.00</td>\n      <td>4.98</td>\n      <td>0</td>\n      <td>0</td>\n      <td>0</td>\n      <td>0</td>\n      <td>0</td>\n      <td>0</td>\n    </tr>\n    <tr>\n      <th>4</th>\n      <td>2</td>\n      <td>9</td>\n      <td>29</td>\n      <td>0.00</td>\n      <td>4.67</td>\n      <td>0</td>\n      <td>0</td>\n      <td>1</td>\n      <td>0</td>\n      <td>0</td>\n      <td>0</td>\n    </tr>\n  </tbody>\n</table>\n</div>"
     },
     "execution_count": 34,
     "metadata": {},
     "output_type": "execute_result"
    }
   ],
   "source": [
    "df.head()"
   ],
   "metadata": {
    "collapsed": false,
    "ExecuteTime": {
     "end_time": "2024-10-14T15:07:31.352469300Z",
     "start_time": "2024-10-14T15:07:30.548024600Z"
    }
   }
  },
  {
   "cell_type": "code",
   "execution_count": 35,
   "metadata": {
    "ExecuteTime": {
     "end_time": "2024-10-14T15:07:31.352469300Z",
     "start_time": "2024-10-14T15:07:30.558592200Z"
    }
   },
   "outputs": [],
   "source": [
    "# Create a new dataset about the customers (Household) with avg price (Price) of their purchases (Choice = 1)\n",
    "# and the total number of purchases (Choice = 1) they made\n",
    "df = df[df['Choice'] == 1]\n",
    "customer = df.groupby('Household').agg({'Price': 'mean', 'Choice': 'count'})"
   ]
  },
  {
   "cell_type": "code",
   "execution_count": 36,
   "metadata": {
    "ExecuteTime": {
     "end_time": "2024-10-14T15:07:31.353470400Z",
     "start_time": "2024-10-14T15:07:30.579921800Z"
    }
   },
   "outputs": [],
   "source": [
    "customer.rename(columns={'Price': 'AvgPrice', 'Choice': 'TotalPurchases'}, inplace=True)"
   ]
  },
  {
   "cell_type": "code",
   "execution_count": 37,
   "metadata": {
    "ExecuteTime": {
     "end_time": "2024-10-14T15:07:31.354471900Z",
     "start_time": "2024-10-14T15:07:30.592162800Z"
    }
   },
   "outputs": [
    {
     "data": {
      "text/plain": "           AvgPrice  TotalPurchases\nHousehold                          \n9          4.591429               7\n11         5.170000               5\n12         6.116250               8\n15         4.538333               6\n16         4.216000               5",
      "text/html": "<div>\n<style scoped>\n    .dataframe tbody tr th:only-of-type {\n        vertical-align: middle;\n    }\n\n    .dataframe tbody tr th {\n        vertical-align: top;\n    }\n\n    .dataframe thead th {\n        text-align: right;\n    }\n</style>\n<table border=\"1\" class=\"dataframe\">\n  <thead>\n    <tr style=\"text-align: right;\">\n      <th></th>\n      <th>AvgPrice</th>\n      <th>TotalPurchases</th>\n    </tr>\n    <tr>\n      <th>Household</th>\n      <th></th>\n      <th></th>\n    </tr>\n  </thead>\n  <tbody>\n    <tr>\n      <th>9</th>\n      <td>4.591429</td>\n      <td>7</td>\n    </tr>\n    <tr>\n      <th>11</th>\n      <td>5.170000</td>\n      <td>5</td>\n    </tr>\n    <tr>\n      <th>12</th>\n      <td>6.116250</td>\n      <td>8</td>\n    </tr>\n    <tr>\n      <th>15</th>\n      <td>4.538333</td>\n      <td>6</td>\n    </tr>\n    <tr>\n      <th>16</th>\n      <td>4.216000</td>\n      <td>5</td>\n    </tr>\n  </tbody>\n</table>\n</div>"
     },
     "execution_count": 37,
     "metadata": {},
     "output_type": "execute_result"
    }
   ],
   "source": [
    "customer.head()"
   ]
  },
  {
   "cell_type": "code",
   "execution_count": 38,
   "metadata": {
    "ExecuteTime": {
     "end_time": "2024-10-14T15:07:31.354471900Z",
     "start_time": "2024-10-14T15:07:30.596467300Z"
    }
   },
   "outputs": [],
   "source": [
    "customer['Freq'] = customer['TotalPurchases'] / df['Week'].nunique()"
   ]
  },
  {
   "cell_type": "code",
   "execution_count": 39,
   "metadata": {
    "ExecuteTime": {
     "end_time": "2024-10-14T15:07:31.354471900Z",
     "start_time": "2024-10-14T15:07:30.609402600Z"
    }
   },
   "outputs": [
    {
     "data": {
      "text/plain": "           AvgPrice  TotalPurchases      Freq\nHousehold                                    \n9          4.591429               7  0.134615\n11         5.170000               5  0.096154\n12         6.116250               8  0.153846\n15         4.538333               6  0.115385\n16         4.216000               5  0.096154",
      "text/html": "<div>\n<style scoped>\n    .dataframe tbody tr th:only-of-type {\n        vertical-align: middle;\n    }\n\n    .dataframe tbody tr th {\n        vertical-align: top;\n    }\n\n    .dataframe thead th {\n        text-align: right;\n    }\n</style>\n<table border=\"1\" class=\"dataframe\">\n  <thead>\n    <tr style=\"text-align: right;\">\n      <th></th>\n      <th>AvgPrice</th>\n      <th>TotalPurchases</th>\n      <th>Freq</th>\n    </tr>\n    <tr>\n      <th>Household</th>\n      <th></th>\n      <th></th>\n      <th></th>\n    </tr>\n  </thead>\n  <tbody>\n    <tr>\n      <th>9</th>\n      <td>4.591429</td>\n      <td>7</td>\n      <td>0.134615</td>\n    </tr>\n    <tr>\n      <th>11</th>\n      <td>5.170000</td>\n      <td>5</td>\n      <td>0.096154</td>\n    </tr>\n    <tr>\n      <th>12</th>\n      <td>6.116250</td>\n      <td>8</td>\n      <td>0.153846</td>\n    </tr>\n    <tr>\n      <th>15</th>\n      <td>4.538333</td>\n      <td>6</td>\n      <td>0.115385</td>\n    </tr>\n    <tr>\n      <th>16</th>\n      <td>4.216000</td>\n      <td>5</td>\n      <td>0.096154</td>\n    </tr>\n  </tbody>\n</table>\n</div>"
     },
     "execution_count": 39,
     "metadata": {},
     "output_type": "execute_result"
    }
   ],
   "source": [
    "customer.head()"
   ]
  },
  {
   "cell_type": "code",
   "execution_count": 40,
   "metadata": {
    "ExecuteTime": {
     "end_time": "2024-10-14T15:07:31.355469500Z",
     "start_time": "2024-10-14T15:07:30.617494100Z"
    }
   },
   "outputs": [],
   "source": [
    "#tot_spent = df.groupby('Household').agg({'Price': 'sum'})\n",
    "#customer = customer.join(tot_spent)\n",
    "#customer.rename(columns={'Price': 'TotalSpent'}, inplace=True)\n",
    "#customer.head()"
   ]
  },
  {
   "cell_type": "code",
   "execution_count": 41,
   "metadata": {
    "ExecuteTime": {
     "end_time": "2024-10-14T15:07:31.355469500Z",
     "start_time": "2024-10-14T15:07:30.625470800Z"
    }
   },
   "outputs": [],
   "source": [
    "zero = df[(df['Tide'] == 0) & (df['Wisk'] == 0) & (df['Era'] == 0)]\n",
    "# Create a new column “Brand”\n",
    "df['Brand'] = df[['Tide', 'Wisk', 'Era']].idxmax(axis=1) #.map({'Tide': 1, 'Wisk': 2, 'Era': 3}) remove comment to assign 1, 2, 3\n",
    "# Assign \"Surf\" to the rows with all 0\n",
    "df.loc[zero.index, 'Brand'] = \"Surf\" # 4\n",
    "# Drop the columns Tide, Wisk, Era\n",
    "df.drop(['Tide', 'Wisk', 'Era'], axis=1, inplace=True)"
   ]
  },
  {
   "cell_type": "code",
   "execution_count": 42,
   "metadata": {
    "ExecuteTime": {
     "end_time": "2024-10-14T15:07:31.355469500Z",
     "start_time": "2024-10-14T15:07:30.650952100Z"
    }
   },
   "outputs": [
    {
     "data": {
      "text/plain": "    Occasion  Household  Week  Loyalty  Price  Feature  Display  Choice Brand\n0          1          9    11     0.00   4.67        0        0       1  Tide\n5          2          9    29     0.62   4.67        1        0       1  Wisk\n9          3          9    31     0.62   4.98        0        0       1  Wisk\n13         4          9    43     0.62   3.81        0        0       1  Wisk\n17         5          9    45     0.62   4.67        0        0       1  Wisk",
      "text/html": "<div>\n<style scoped>\n    .dataframe tbody tr th:only-of-type {\n        vertical-align: middle;\n    }\n\n    .dataframe tbody tr th {\n        vertical-align: top;\n    }\n\n    .dataframe thead th {\n        text-align: right;\n    }\n</style>\n<table border=\"1\" class=\"dataframe\">\n  <thead>\n    <tr style=\"text-align: right;\">\n      <th></th>\n      <th>Occasion</th>\n      <th>Household</th>\n      <th>Week</th>\n      <th>Loyalty</th>\n      <th>Price</th>\n      <th>Feature</th>\n      <th>Display</th>\n      <th>Choice</th>\n      <th>Brand</th>\n    </tr>\n  </thead>\n  <tbody>\n    <tr>\n      <th>0</th>\n      <td>1</td>\n      <td>9</td>\n      <td>11</td>\n      <td>0.00</td>\n      <td>4.67</td>\n      <td>0</td>\n      <td>0</td>\n      <td>1</td>\n      <td>Tide</td>\n    </tr>\n    <tr>\n      <th>5</th>\n      <td>2</td>\n      <td>9</td>\n      <td>29</td>\n      <td>0.62</td>\n      <td>4.67</td>\n      <td>1</td>\n      <td>0</td>\n      <td>1</td>\n      <td>Wisk</td>\n    </tr>\n    <tr>\n      <th>9</th>\n      <td>3</td>\n      <td>9</td>\n      <td>31</td>\n      <td>0.62</td>\n      <td>4.98</td>\n      <td>0</td>\n      <td>0</td>\n      <td>1</td>\n      <td>Wisk</td>\n    </tr>\n    <tr>\n      <th>13</th>\n      <td>4</td>\n      <td>9</td>\n      <td>43</td>\n      <td>0.62</td>\n      <td>3.81</td>\n      <td>0</td>\n      <td>0</td>\n      <td>1</td>\n      <td>Wisk</td>\n    </tr>\n    <tr>\n      <th>17</th>\n      <td>5</td>\n      <td>9</td>\n      <td>45</td>\n      <td>0.62</td>\n      <td>4.67</td>\n      <td>0</td>\n      <td>0</td>\n      <td>1</td>\n      <td>Wisk</td>\n    </tr>\n  </tbody>\n</table>\n</div>"
     },
     "execution_count": 42,
     "metadata": {},
     "output_type": "execute_result"
    }
   ],
   "source": [
    "df.head()"
   ]
  },
  {
   "cell_type": "code",
   "execution_count": 43,
   "metadata": {
    "ExecuteTime": {
     "end_time": "2024-10-14T15:07:31.356469800Z",
     "start_time": "2024-10-14T15:07:30.655343600Z"
    }
   },
   "outputs": [],
   "source": [
    "# Count for heach houshold the number of purchases for each brand\n",
    "brand_count = df.groupby(['Household', 'Brand']).agg({'Choice': 'count'}).unstack().fillna(0)"
   ]
  },
  {
   "cell_type": "code",
   "execution_count": 44,
   "metadata": {
    "ExecuteTime": {
     "end_time": "2024-10-14T15:07:31.356469800Z",
     "start_time": "2024-10-14T15:07:30.686641200Z"
    }
   },
   "outputs": [
    {
     "data": {
      "text/plain": "          Choice               \nBrand        Era Surf Tide Wisk\nHousehold                      \n9            0.0  0.0  1.0  6.0\n11           0.0  0.0  4.0  1.0\n12           8.0  0.0  0.0  0.0\n15           0.0  0.0  0.0  6.0\n16           0.0  1.0  0.0  4.0",
      "text/html": "<div>\n<style scoped>\n    .dataframe tbody tr th:only-of-type {\n        vertical-align: middle;\n    }\n\n    .dataframe tbody tr th {\n        vertical-align: top;\n    }\n\n    .dataframe thead tr th {\n        text-align: left;\n    }\n\n    .dataframe thead tr:last-of-type th {\n        text-align: right;\n    }\n</style>\n<table border=\"1\" class=\"dataframe\">\n  <thead>\n    <tr>\n      <th></th>\n      <th colspan=\"4\" halign=\"left\">Choice</th>\n    </tr>\n    <tr>\n      <th>Brand</th>\n      <th>Era</th>\n      <th>Surf</th>\n      <th>Tide</th>\n      <th>Wisk</th>\n    </tr>\n    <tr>\n      <th>Household</th>\n      <th></th>\n      <th></th>\n      <th></th>\n      <th></th>\n    </tr>\n  </thead>\n  <tbody>\n    <tr>\n      <th>9</th>\n      <td>0.0</td>\n      <td>0.0</td>\n      <td>1.0</td>\n      <td>6.0</td>\n    </tr>\n    <tr>\n      <th>11</th>\n      <td>0.0</td>\n      <td>0.0</td>\n      <td>4.0</td>\n      <td>1.0</td>\n    </tr>\n    <tr>\n      <th>12</th>\n      <td>8.0</td>\n      <td>0.0</td>\n      <td>0.0</td>\n      <td>0.0</td>\n    </tr>\n    <tr>\n      <th>15</th>\n      <td>0.0</td>\n      <td>0.0</td>\n      <td>0.0</td>\n      <td>6.0</td>\n    </tr>\n    <tr>\n      <th>16</th>\n      <td>0.0</td>\n      <td>1.0</td>\n      <td>0.0</td>\n      <td>4.0</td>\n    </tr>\n  </tbody>\n</table>\n</div>"
     },
     "execution_count": 44,
     "metadata": {},
     "output_type": "execute_result"
    }
   ],
   "source": [
    "brand_count.head()"
   ]
  },
  {
   "cell_type": "code",
   "execution_count": 45,
   "metadata": {
    "ExecuteTime": {
     "end_time": "2024-10-14T15:07:31.357472600Z",
     "start_time": "2024-10-14T15:07:30.697253200Z"
    }
   },
   "outputs": [
    {
     "data": {
      "text/plain": "           Era  Surf  Tide  Wisk\nHousehold                       \n9          0.0   0.0   1.0   6.0\n11         0.0   0.0   4.0   1.0\n12         8.0   0.0   0.0   0.0\n15         0.0   0.0   0.0   6.0\n16         0.0   1.0   0.0   4.0",
      "text/html": "<div>\n<style scoped>\n    .dataframe tbody tr th:only-of-type {\n        vertical-align: middle;\n    }\n\n    .dataframe tbody tr th {\n        vertical-align: top;\n    }\n\n    .dataframe thead th {\n        text-align: right;\n    }\n</style>\n<table border=\"1\" class=\"dataframe\">\n  <thead>\n    <tr style=\"text-align: right;\">\n      <th></th>\n      <th>Era</th>\n      <th>Surf</th>\n      <th>Tide</th>\n      <th>Wisk</th>\n    </tr>\n    <tr>\n      <th>Household</th>\n      <th></th>\n      <th></th>\n      <th></th>\n      <th></th>\n    </tr>\n  </thead>\n  <tbody>\n    <tr>\n      <th>9</th>\n      <td>0.0</td>\n      <td>0.0</td>\n      <td>1.0</td>\n      <td>6.0</td>\n    </tr>\n    <tr>\n      <th>11</th>\n      <td>0.0</td>\n      <td>0.0</td>\n      <td>4.0</td>\n      <td>1.0</td>\n    </tr>\n    <tr>\n      <th>12</th>\n      <td>8.0</td>\n      <td>0.0</td>\n      <td>0.0</td>\n      <td>0.0</td>\n    </tr>\n    <tr>\n      <th>15</th>\n      <td>0.0</td>\n      <td>0.0</td>\n      <td>0.0</td>\n      <td>6.0</td>\n    </tr>\n    <tr>\n      <th>16</th>\n      <td>0.0</td>\n      <td>1.0</td>\n      <td>0.0</td>\n      <td>4.0</td>\n    </tr>\n  </tbody>\n</table>\n</div>"
     },
     "execution_count": 45,
     "metadata": {},
     "output_type": "execute_result"
    }
   ],
   "source": [
    "# Rename the columns\n",
    "brand_count.columns = brand_count.columns.droplevel()\n",
    "brand_count.columns.name = None\n",
    "brand_count.columns = ['Era', 'Surf', 'Tide', 'Wisk']\n",
    "brand_count.head()"
   ]
  },
  {
   "cell_type": "code",
   "execution_count": 46,
   "metadata": {
    "ExecuteTime": {
     "end_time": "2024-10-14T15:07:31.357472600Z",
     "start_time": "2024-10-14T15:07:30.704493700Z"
    }
   },
   "outputs": [],
   "source": [
    "customer = customer.join(brand_count)"
   ]
  },
  {
   "cell_type": "code",
   "execution_count": 47,
   "metadata": {
    "ExecuteTime": {
     "end_time": "2024-10-14T15:07:31.358473Z",
     "start_time": "2024-10-14T15:07:30.720061900Z"
    }
   },
   "outputs": [
    {
     "data": {
      "text/plain": "           AvgPrice  TotalPurchases      Freq  Era  Surf  Tide  Wisk\nHousehold                                                           \n9          4.591429               7  0.134615  0.0   0.0   1.0   6.0\n11         5.170000               5  0.096154  0.0   0.0   4.0   1.0\n12         6.116250               8  0.153846  8.0   0.0   0.0   0.0\n15         4.538333               6  0.115385  0.0   0.0   0.0   6.0\n16         4.216000               5  0.096154  0.0   1.0   0.0   4.0",
      "text/html": "<div>\n<style scoped>\n    .dataframe tbody tr th:only-of-type {\n        vertical-align: middle;\n    }\n\n    .dataframe tbody tr th {\n        vertical-align: top;\n    }\n\n    .dataframe thead th {\n        text-align: right;\n    }\n</style>\n<table border=\"1\" class=\"dataframe\">\n  <thead>\n    <tr style=\"text-align: right;\">\n      <th></th>\n      <th>AvgPrice</th>\n      <th>TotalPurchases</th>\n      <th>Freq</th>\n      <th>Era</th>\n      <th>Surf</th>\n      <th>Tide</th>\n      <th>Wisk</th>\n    </tr>\n    <tr>\n      <th>Household</th>\n      <th></th>\n      <th></th>\n      <th></th>\n      <th></th>\n      <th></th>\n      <th></th>\n      <th></th>\n    </tr>\n  </thead>\n  <tbody>\n    <tr>\n      <th>9</th>\n      <td>4.591429</td>\n      <td>7</td>\n      <td>0.134615</td>\n      <td>0.0</td>\n      <td>0.0</td>\n      <td>1.0</td>\n      <td>6.0</td>\n    </tr>\n    <tr>\n      <th>11</th>\n      <td>5.170000</td>\n      <td>5</td>\n      <td>0.096154</td>\n      <td>0.0</td>\n      <td>0.0</td>\n      <td>4.0</td>\n      <td>1.0</td>\n    </tr>\n    <tr>\n      <th>12</th>\n      <td>6.116250</td>\n      <td>8</td>\n      <td>0.153846</td>\n      <td>8.0</td>\n      <td>0.0</td>\n      <td>0.0</td>\n      <td>0.0</td>\n    </tr>\n    <tr>\n      <th>15</th>\n      <td>4.538333</td>\n      <td>6</td>\n      <td>0.115385</td>\n      <td>0.0</td>\n      <td>0.0</td>\n      <td>0.0</td>\n      <td>6.0</td>\n    </tr>\n    <tr>\n      <th>16</th>\n      <td>4.216000</td>\n      <td>5</td>\n      <td>0.096154</td>\n      <td>0.0</td>\n      <td>1.0</td>\n      <td>0.0</td>\n      <td>4.0</td>\n    </tr>\n  </tbody>\n</table>\n</div>"
     },
     "execution_count": 47,
     "metadata": {},
     "output_type": "execute_result"
    }
   ],
   "source": [
    "customer.head()"
   ]
  },
  {
   "cell_type": "code",
   "execution_count": 48,
   "metadata": {
    "ExecuteTime": {
     "end_time": "2024-10-14T15:07:31.358473Z",
     "start_time": "2024-10-14T15:07:30.723306100Z"
    }
   },
   "outputs": [
    {
     "data": {
      "text/plain": "           AvgPrice  TotalPurchases      Freq  Era  Surf  Tide  Wisk  Display  \\\nHousehold                                                                       \n9          4.591429               7  0.134615  0.0   0.0   1.0   6.0        0   \n11         5.170000               5  0.096154  0.0   0.0   4.0   1.0        2   \n12         6.116250               8  0.153846  8.0   0.0   0.0   0.0        1   \n15         4.538333               6  0.115385  0.0   0.0   0.0   6.0        0   \n16         4.216000               5  0.096154  0.0   1.0   0.0   4.0        2   \n\n           Feature  \nHousehold           \n9                1  \n11               0  \n12               0  \n15               2  \n16               1  ",
      "text/html": "<div>\n<style scoped>\n    .dataframe tbody tr th:only-of-type {\n        vertical-align: middle;\n    }\n\n    .dataframe tbody tr th {\n        vertical-align: top;\n    }\n\n    .dataframe thead th {\n        text-align: right;\n    }\n</style>\n<table border=\"1\" class=\"dataframe\">\n  <thead>\n    <tr style=\"text-align: right;\">\n      <th></th>\n      <th>AvgPrice</th>\n      <th>TotalPurchases</th>\n      <th>Freq</th>\n      <th>Era</th>\n      <th>Surf</th>\n      <th>Tide</th>\n      <th>Wisk</th>\n      <th>Display</th>\n      <th>Feature</th>\n    </tr>\n    <tr>\n      <th>Household</th>\n      <th></th>\n      <th></th>\n      <th></th>\n      <th></th>\n      <th></th>\n      <th></th>\n      <th></th>\n      <th></th>\n      <th></th>\n    </tr>\n  </thead>\n  <tbody>\n    <tr>\n      <th>9</th>\n      <td>4.591429</td>\n      <td>7</td>\n      <td>0.134615</td>\n      <td>0.0</td>\n      <td>0.0</td>\n      <td>1.0</td>\n      <td>6.0</td>\n      <td>0</td>\n      <td>1</td>\n    </tr>\n    <tr>\n      <th>11</th>\n      <td>5.170000</td>\n      <td>5</td>\n      <td>0.096154</td>\n      <td>0.0</td>\n      <td>0.0</td>\n      <td>4.0</td>\n      <td>1.0</td>\n      <td>2</td>\n      <td>0</td>\n    </tr>\n    <tr>\n      <th>12</th>\n      <td>6.116250</td>\n      <td>8</td>\n      <td>0.153846</td>\n      <td>8.0</td>\n      <td>0.0</td>\n      <td>0.0</td>\n      <td>0.0</td>\n      <td>1</td>\n      <td>0</td>\n    </tr>\n    <tr>\n      <th>15</th>\n      <td>4.538333</td>\n      <td>6</td>\n      <td>0.115385</td>\n      <td>0.0</td>\n      <td>0.0</td>\n      <td>0.0</td>\n      <td>6.0</td>\n      <td>0</td>\n      <td>2</td>\n    </tr>\n    <tr>\n      <th>16</th>\n      <td>4.216000</td>\n      <td>5</td>\n      <td>0.096154</td>\n      <td>0.0</td>\n      <td>1.0</td>\n      <td>0.0</td>\n      <td>4.0</td>\n      <td>2</td>\n      <td>1</td>\n    </tr>\n  </tbody>\n</table>\n</div>"
     },
     "execution_count": 48,
     "metadata": {},
     "output_type": "execute_result"
    }
   ],
   "source": [
    "# Number of display and feature promotions\n",
    "display = df.groupby('Household').agg({'Display': 'sum', 'Feature': 'sum'})\n",
    "customer = customer.join(display)\n",
    "customer.head()"
   ]
  },
  {
   "cell_type": "code",
   "execution_count": 49,
   "metadata": {
    "ExecuteTime": {
     "end_time": "2024-10-14T15:07:31.359473200Z",
     "start_time": "2024-10-14T15:07:30.743856500Z"
    }
   },
   "outputs": [
    {
     "data": {
      "text/plain": "           AvgPrice  TotalPurchases      Freq    Era  Surf  Tide   Wisk  \\\nHousehold                                                                 \n9          4.591429               7  0.134615    0.0   0.0  14.0   86.0   \n11         5.170000               5  0.096154    0.0   0.0  80.0   20.0   \n12         6.116250               8  0.153846  100.0   0.0   0.0    0.0   \n15         4.538333               6  0.115385    0.0   0.0   0.0  100.0   \n16         4.216000               5  0.096154    0.0  20.0   0.0   80.0   \n\n           Display  Feature  \nHousehold                    \n9              0.0     14.0  \n11            40.0      0.0  \n12            12.0      0.0  \n15             0.0     33.0  \n16            40.0     20.0  ",
      "text/html": "<div>\n<style scoped>\n    .dataframe tbody tr th:only-of-type {\n        vertical-align: middle;\n    }\n\n    .dataframe tbody tr th {\n        vertical-align: top;\n    }\n\n    .dataframe thead th {\n        text-align: right;\n    }\n</style>\n<table border=\"1\" class=\"dataframe\">\n  <thead>\n    <tr style=\"text-align: right;\">\n      <th></th>\n      <th>AvgPrice</th>\n      <th>TotalPurchases</th>\n      <th>Freq</th>\n      <th>Era</th>\n      <th>Surf</th>\n      <th>Tide</th>\n      <th>Wisk</th>\n      <th>Display</th>\n      <th>Feature</th>\n    </tr>\n    <tr>\n      <th>Household</th>\n      <th></th>\n      <th></th>\n      <th></th>\n      <th></th>\n      <th></th>\n      <th></th>\n      <th></th>\n      <th></th>\n      <th></th>\n    </tr>\n  </thead>\n  <tbody>\n    <tr>\n      <th>9</th>\n      <td>4.591429</td>\n      <td>7</td>\n      <td>0.134615</td>\n      <td>0.0</td>\n      <td>0.0</td>\n      <td>14.0</td>\n      <td>86.0</td>\n      <td>0.0</td>\n      <td>14.0</td>\n    </tr>\n    <tr>\n      <th>11</th>\n      <td>5.170000</td>\n      <td>5</td>\n      <td>0.096154</td>\n      <td>0.0</td>\n      <td>0.0</td>\n      <td>80.0</td>\n      <td>20.0</td>\n      <td>40.0</td>\n      <td>0.0</td>\n    </tr>\n    <tr>\n      <th>12</th>\n      <td>6.116250</td>\n      <td>8</td>\n      <td>0.153846</td>\n      <td>100.0</td>\n      <td>0.0</td>\n      <td>0.0</td>\n      <td>0.0</td>\n      <td>12.0</td>\n      <td>0.0</td>\n    </tr>\n    <tr>\n      <th>15</th>\n      <td>4.538333</td>\n      <td>6</td>\n      <td>0.115385</td>\n      <td>0.0</td>\n      <td>0.0</td>\n      <td>0.0</td>\n      <td>100.0</td>\n      <td>0.0</td>\n      <td>33.0</td>\n    </tr>\n    <tr>\n      <th>16</th>\n      <td>4.216000</td>\n      <td>5</td>\n      <td>0.096154</td>\n      <td>0.0</td>\n      <td>20.0</td>\n      <td>0.0</td>\n      <td>80.0</td>\n      <td>40.0</td>\n      <td>20.0</td>\n    </tr>\n  </tbody>\n</table>\n</div>"
     },
     "execution_count": 49,
     "metadata": {},
     "output_type": "execute_result"
    }
   ],
   "source": [
    "# Transform Era, Surf, Tide, Wisk, Display, Feature percentages\n",
    "cols = ['Era', 'Surf', 'Tide', 'Wisk', 'Display', 'Feature']\n",
    "for col in cols:\n",
    "    customer[col] = round(customer[col] / customer['TotalPurchases'],2) * 100\n",
    "\n",
    "customer.head()"
   ]
  },
  {
   "cell_type": "code",
   "execution_count": 50,
   "metadata": {
    "ExecuteTime": {
     "end_time": "2024-10-14T15:07:31.359473200Z",
     "start_time": "2024-10-14T15:07:30.761694700Z"
    }
   },
   "outputs": [
    {
     "data": {
      "text/plain": "           AvgPrice  TotalPurchases      Freq    Era  Surf  Tide   Wisk  \\\nHousehold                                                                 \n9          4.591429               7  0.134615    0.0   0.0  14.0   86.0   \n11         5.170000               5  0.096154    0.0   0.0  80.0   20.0   \n12         6.116250               8  0.153846  100.0   0.0   0.0    0.0   \n15         4.538333               6  0.115385    0.0   0.0   0.0  100.0   \n16         4.216000               5  0.096154    0.0  20.0   0.0   80.0   \n\n           Display  Feature  MinLoyalty  MaxLoyalty  \nHousehold                                            \n9              0.0     14.0        0.00        0.62  \n11            40.0      0.0        0.33        0.50  \n12            12.0      0.0        0.86        0.86  \n15             0.0     33.0        1.00        1.00  \n16            40.0     20.0        0.14        0.18  ",
      "text/html": "<div>\n<style scoped>\n    .dataframe tbody tr th:only-of-type {\n        vertical-align: middle;\n    }\n\n    .dataframe tbody tr th {\n        vertical-align: top;\n    }\n\n    .dataframe thead th {\n        text-align: right;\n    }\n</style>\n<table border=\"1\" class=\"dataframe\">\n  <thead>\n    <tr style=\"text-align: right;\">\n      <th></th>\n      <th>AvgPrice</th>\n      <th>TotalPurchases</th>\n      <th>Freq</th>\n      <th>Era</th>\n      <th>Surf</th>\n      <th>Tide</th>\n      <th>Wisk</th>\n      <th>Display</th>\n      <th>Feature</th>\n      <th>MinLoyalty</th>\n      <th>MaxLoyalty</th>\n    </tr>\n    <tr>\n      <th>Household</th>\n      <th></th>\n      <th></th>\n      <th></th>\n      <th></th>\n      <th></th>\n      <th></th>\n      <th></th>\n      <th></th>\n      <th></th>\n      <th></th>\n      <th></th>\n    </tr>\n  </thead>\n  <tbody>\n    <tr>\n      <th>9</th>\n      <td>4.591429</td>\n      <td>7</td>\n      <td>0.134615</td>\n      <td>0.0</td>\n      <td>0.0</td>\n      <td>14.0</td>\n      <td>86.0</td>\n      <td>0.0</td>\n      <td>14.0</td>\n      <td>0.00</td>\n      <td>0.62</td>\n    </tr>\n    <tr>\n      <th>11</th>\n      <td>5.170000</td>\n      <td>5</td>\n      <td>0.096154</td>\n      <td>0.0</td>\n      <td>0.0</td>\n      <td>80.0</td>\n      <td>20.0</td>\n      <td>40.0</td>\n      <td>0.0</td>\n      <td>0.33</td>\n      <td>0.50</td>\n    </tr>\n    <tr>\n      <th>12</th>\n      <td>6.116250</td>\n      <td>8</td>\n      <td>0.153846</td>\n      <td>100.0</td>\n      <td>0.0</td>\n      <td>0.0</td>\n      <td>0.0</td>\n      <td>12.0</td>\n      <td>0.0</td>\n      <td>0.86</td>\n      <td>0.86</td>\n    </tr>\n    <tr>\n      <th>15</th>\n      <td>4.538333</td>\n      <td>6</td>\n      <td>0.115385</td>\n      <td>0.0</td>\n      <td>0.0</td>\n      <td>0.0</td>\n      <td>100.0</td>\n      <td>0.0</td>\n      <td>33.0</td>\n      <td>1.00</td>\n      <td>1.00</td>\n    </tr>\n    <tr>\n      <th>16</th>\n      <td>4.216000</td>\n      <td>5</td>\n      <td>0.096154</td>\n      <td>0.0</td>\n      <td>20.0</td>\n      <td>0.0</td>\n      <td>80.0</td>\n      <td>40.0</td>\n      <td>20.0</td>\n      <td>0.14</td>\n      <td>0.18</td>\n    </tr>\n  </tbody>\n</table>\n</div>"
     },
     "execution_count": 50,
     "metadata": {},
     "output_type": "execute_result"
    }
   ],
   "source": [
    "min_loyalty = df.groupby('Household').agg({'Loyalty': 'min'})\n",
    "min_loyalty.rename(columns={'Loyalty': 'MinLoyalty'}, inplace=True)\n",
    "max_loyalty = df.groupby('Household').agg({'Loyalty': 'max'})\n",
    "max_loyalty.rename(columns={'Loyalty': 'MaxLoyalty'}, inplace=True)\n",
    "customer = customer.join(min_loyalty)\n",
    "customer = customer.join(max_loyalty)\n",
    "customer.head()"
   ]
  },
  {
   "cell_type": "code",
   "execution_count": 51,
   "metadata": {
    "ExecuteTime": {
     "end_time": "2024-10-14T15:07:31.360473100Z",
     "start_time": "2024-10-14T15:07:30.793219300Z"
    }
   },
   "outputs": [],
   "source": [
    "from matplotlib import pyplot as plt\n",
    "from sklearn.cluster import KMeans\n",
    "from sklearn.preprocessing import StandardScaler\n",
    "def elbow(X):\n",
    "    inertia = []\n",
    "    for i in range(1, 11):\n",
    "        kmeans = KMeans(n_clusters=i, random_state=0)\n",
    "        kmeans.fit(X)\n",
    "        inertia.append(kmeans.inertia_)\n",
    "    plt.plot(range(1, 11), inertia)\n",
    "    plt.xlabel('Number of clusters')\n",
    "    plt.ylabel('Inertia')\n",
    "    plt.show()"
   ]
  },
  {
   "cell_type": "code",
   "execution_count": 52,
   "metadata": {
    "ExecuteTime": {
     "end_time": "2024-10-14T15:07:31.362472300Z",
     "start_time": "2024-10-14T15:07:30.836167900Z"
    }
   },
   "outputs": [
    {
     "data": {
      "text/plain": "<Figure size 640x480 with 1 Axes>",
      "image/png": "[encoded data removed]"
     },
     "metadata": {},
     "output_type": "display_data"
    }
   ],
   "source": [
    "# kmeans clustering\n",
    "\"\"\"import warnings\n",
    "warnings.filterwarnings(\"ignore\")   \n",
    "scaler = StandardScaler()\n",
    "X = customer.drop(['TotalPurchases', 'MinLoyalty', 'MaxLoyalty'], axis=1)\n",
    "X = scaler.fit_transform(X)\n",
    "elbow(X)\"\"\""
   ]
  },
  {
   "cell_type": "code",
   "execution_count": 53,
   "metadata": {
    "ExecuteTime": {
     "end_time": "2024-10-14T15:07:31.370980Z",
     "start_time": "2024-10-14T15:07:31.085463900Z"
    }
   },
   "outputs": [
    {
     "data": {
      "text/plain": "\"kmeans = KMeans(n_clusters=5, random_state=123)\\ncustomer['Cluster'] = kmeans.fit_predict(X)\\ncustomer.head()\""
     },
     "execution_count": 53,
     "metadata": {},
     "output_type": "execute_result"
    }
   ],
   "source": [
    "\"\"\"kmeans = KMeans(n_clusters=5, random_state=123)\n",
    "customer['Cluster'] = kmeans.fit_predict(X)\n",
    "customer.head()\"\"\""
   ]
  },
  {
   "cell_type": "code",
   "execution_count": 54,
   "metadata": {
    "ExecuteTime": {
     "end_time": "2024-10-14T15:07:31.372981Z",
     "start_time": "2024-10-14T15:07:31.091881900Z"
    }
   },
   "outputs": [
    {
     "data": {
      "text/plain": "\"cluster_analysis = customer.groupby('Cluster').agg({'AvgPrice': 'mean', 'TotalPurchases': 'mean', 'Freq': 'mean', 'Display': 'mean', 'Feature': 'mean', 'Era': 'mean', 'Surf': 'mean', 'Tide': 'mean', 'Wisk': 'mean', 'MinLoyalty': 'mean', 'MaxLoyalty': 'mean'})\\ncluster_analysis.head()\""
     },
     "execution_count": 54,
     "metadata": {},
     "output_type": "execute_result"
    }
   ],
   "source": [
    "# Cluster analysis\n",
    "\"\"\"cluster_analysis = customer.groupby('Cluster').agg({'AvgPrice': 'mean', 'TotalPurchases': 'mean', 'Freq': 'mean', 'Display': 'mean', 'Feature': 'mean', 'Era': 'mean', 'Surf': 'mean', 'Tide': 'mean', 'Wisk': 'mean', 'MinLoyalty': 'mean', 'MaxLoyalty': 'mean'})\n",
    "cluster_analysis.head()\"\"\""
   ]
  },
  {
   "cell_type": "code",
   "execution_count": 55,
   "metadata": {
    "ExecuteTime": {
     "end_time": "2024-10-14T15:07:31.372981Z",
     "start_time": "2024-10-14T15:07:31.101850400Z"
    }
   },
   "outputs": [
    {
     "data": {
      "text/plain": "\"customer_without_brand = customer.drop(['Era', 'Surf', 'Tide', 'Wisk'], axis=1)\\n# cluster again without brand\\nX = customer_without_brand.drop(['TotalPurchases', 'MinLoyalty', 'MaxLoyalty'], axis=1)\\nX = scaler.fit_transform(X)\\n#elbow method\\nelbow(X)\""
     },
     "execution_count": 55,
     "metadata": {},
     "output_type": "execute_result"
    }
   ],
   "source": [
    "\"\"\"customer_without_brand = customer.drop(['Era', 'Surf', 'Tide', 'Wisk'], axis=1)\n",
    "# cluster again without brand\n",
    "X = customer_without_brand.drop(['TotalPurchases', 'MinLoyalty', 'MaxLoyalty'], axis=1)\n",
    "X = scaler.fit_transform(X)\n",
    "#elbow method\n",
    "elbow(X)\"\"\""
   ]
  },
  {
   "cell_type": "code",
   "execution_count": 56,
   "metadata": {
    "ExecuteTime": {
     "end_time": "2024-10-14T15:07:31.372981Z",
     "start_time": "2024-10-14T15:07:31.108637600Z"
    }
   },
   "outputs": [
    {
     "data": {
      "text/plain": "\"kmeans = KMeans(n_clusters=5, random_state=123)\\ncustomer_without_brand['Cluster'] = kmeans.fit_predict(X)\\ncustomer_without_brand.head()\\ncluster_analysis = customer_without_brand.groupby('Cluster').agg({'AvgPrice': 'mean', 'TotalPurchases': 'mean', 'Freq': 'mean', 'Display': 'mean', 'Feature': 'mean', 'MinLoyalty': 'mean', 'MaxLoyalty': 'mean'})\\ncluster_analysis.head()\""
     },
     "execution_count": 56,
     "metadata": {},
     "output_type": "execute_result"
    }
   ],
   "source": [
    "# Cluster analysis without brand\n",
    "\"\"\"kmeans = KMeans(n_clusters=5, random_state=123)\n",
    "customer_without_brand['Cluster'] = kmeans.fit_predict(X)\n",
    "customer_without_brand.head()\n",
    "cluster_analysis = customer_without_brand.groupby('Cluster').agg({'AvgPrice': 'mean', 'TotalPurchases': 'mean', 'Freq': 'mean', 'Display': 'mean', 'Feature': 'mean', 'MinLoyalty': 'mean', 'MaxLoyalty': 'mean'})\n",
    "cluster_analysis.head()\"\"\""
   ]
  },
  {
   "cell_type": "code",
   "execution_count": 57,
   "metadata": {
    "ExecuteTime": {
     "end_time": "2024-10-14T15:07:31.373981500Z",
     "start_time": "2024-10-14T15:07:31.117522300Z"
    }
   },
   "outputs": [
    {
     "data": {
      "text/plain": "    Occasion  Household  Week  Loyalty  Price  Feature  Display  Choice Brand\n0          1          9    11     0.00   4.67        0        0       1  Tide\n5          2          9    29     0.62   4.67        1        0       1  Wisk\n9          3          9    31     0.62   4.98        0        0       1  Wisk\n13         4          9    43     0.62   3.81        0        0       1  Wisk\n17         5          9    45     0.62   4.67        0        0       1  Wisk",
      "text/html": "<div>\n<style scoped>\n    .dataframe tbody tr th:only-of-type {\n        vertical-align: middle;\n    }\n\n    .dataframe tbody tr th {\n        vertical-align: top;\n    }\n\n    .dataframe thead th {\n        text-align: right;\n    }\n</style>\n<table border=\"1\" class=\"dataframe\">\n  <thead>\n    <tr style=\"text-align: right;\">\n      <th></th>\n      <th>Occasion</th>\n      <th>Household</th>\n      <th>Week</th>\n      <th>Loyalty</th>\n      <th>Price</th>\n      <th>Feature</th>\n      <th>Display</th>\n      <th>Choice</th>\n      <th>Brand</th>\n    </tr>\n  </thead>\n  <tbody>\n    <tr>\n      <th>0</th>\n      <td>1</td>\n      <td>9</td>\n      <td>11</td>\n      <td>0.00</td>\n      <td>4.67</td>\n      <td>0</td>\n      <td>0</td>\n      <td>1</td>\n      <td>Tide</td>\n    </tr>\n    <tr>\n      <th>5</th>\n      <td>2</td>\n      <td>9</td>\n      <td>29</td>\n      <td>0.62</td>\n      <td>4.67</td>\n      <td>1</td>\n      <td>0</td>\n      <td>1</td>\n      <td>Wisk</td>\n    </tr>\n    <tr>\n      <th>9</th>\n      <td>3</td>\n      <td>9</td>\n      <td>31</td>\n      <td>0.62</td>\n      <td>4.98</td>\n      <td>0</td>\n      <td>0</td>\n      <td>1</td>\n      <td>Wisk</td>\n    </tr>\n    <tr>\n      <th>13</th>\n      <td>4</td>\n      <td>9</td>\n      <td>43</td>\n      <td>0.62</td>\n      <td>3.81</td>\n      <td>0</td>\n      <td>0</td>\n      <td>1</td>\n      <td>Wisk</td>\n    </tr>\n    <tr>\n      <th>17</th>\n      <td>5</td>\n      <td>9</td>\n      <td>45</td>\n      <td>0.62</td>\n      <td>4.67</td>\n      <td>0</td>\n      <td>0</td>\n      <td>1</td>\n      <td>Wisk</td>\n    </tr>\n  </tbody>\n</table>\n</div>"
     },
     "execution_count": 57,
     "metadata": {},
     "output_type": "execute_result"
    }
   ],
   "source": [
    "df.head()"
   ]
  },
  {
   "cell_type": "code",
   "execution_count": 58,
   "metadata": {
    "ExecuteTime": {
     "end_time": "2024-10-14T15:07:31.374981Z",
     "start_time": "2024-10-14T15:07:31.127284700Z"
    }
   },
   "outputs": [
    {
     "data": {
      "text/plain": "           AvgPrice  TotalPurchases      Freq    Era  Surf  Tide   Wisk  \\\nHousehold                                                                 \n9          4.591429               7  0.134615    0.0   0.0  14.0   86.0   \n11         5.170000               5  0.096154    0.0   0.0  80.0   20.0   \n12         6.116250               8  0.153846  100.0   0.0   0.0    0.0   \n15         4.538333               6  0.115385    0.0   0.0   0.0  100.0   \n16         4.216000               5  0.096154    0.0  20.0   0.0   80.0   \n\n           Display  Feature  MinLoyalty  MaxLoyalty  BrandChange  \nHousehold                                                         \n9              0.0     14.0        0.00        0.62          1.0  \n11            40.0      0.0        0.33        0.50          1.0  \n12            12.0      0.0        0.86        0.86          0.0  \n15             0.0     33.0        1.00        1.00          0.0  \n16            40.0     20.0        0.14        0.18          2.0  ",
      "text/html": "<div>\n<style scoped>\n    .dataframe tbody tr th:only-of-type {\n        vertical-align: middle;\n    }\n\n    .dataframe tbody tr th {\n        vertical-align: top;\n    }\n\n    .dataframe thead th {\n        text-align: right;\n    }\n</style>\n<table border=\"1\" class=\"dataframe\">\n  <thead>\n    <tr style=\"text-align: right;\">\n      <th></th>\n      <th>AvgPrice</th>\n      <th>TotalPurchases</th>\n      <th>Freq</th>\n      <th>Era</th>\n      <th>Surf</th>\n      <th>Tide</th>\n      <th>Wisk</th>\n      <th>Display</th>\n      <th>Feature</th>\n      <th>MinLoyalty</th>\n      <th>MaxLoyalty</th>\n      <th>BrandChange</th>\n    </tr>\n    <tr>\n      <th>Household</th>\n      <th></th>\n      <th></th>\n      <th></th>\n      <th></th>\n      <th></th>\n      <th></th>\n      <th></th>\n      <th></th>\n      <th></th>\n      <th></th>\n      <th></th>\n      <th></th>\n    </tr>\n  </thead>\n  <tbody>\n    <tr>\n      <th>9</th>\n      <td>4.591429</td>\n      <td>7</td>\n      <td>0.134615</td>\n      <td>0.0</td>\n      <td>0.0</td>\n      <td>14.0</td>\n      <td>86.0</td>\n      <td>0.0</td>\n      <td>14.0</td>\n      <td>0.00</td>\n      <td>0.62</td>\n      <td>1.0</td>\n    </tr>\n    <tr>\n      <th>11</th>\n      <td>5.170000</td>\n      <td>5</td>\n      <td>0.096154</td>\n      <td>0.0</td>\n      <td>0.0</td>\n      <td>80.0</td>\n      <td>20.0</td>\n      <td>40.0</td>\n      <td>0.0</td>\n      <td>0.33</td>\n      <td>0.50</td>\n      <td>1.0</td>\n    </tr>\n    <tr>\n      <th>12</th>\n      <td>6.116250</td>\n      <td>8</td>\n      <td>0.153846</td>\n      <td>100.0</td>\n      <td>0.0</td>\n      <td>0.0</td>\n      <td>0.0</td>\n      <td>12.0</td>\n      <td>0.0</td>\n      <td>0.86</td>\n      <td>0.86</td>\n      <td>0.0</td>\n    </tr>\n    <tr>\n      <th>15</th>\n      <td>4.538333</td>\n      <td>6</td>\n      <td>0.115385</td>\n      <td>0.0</td>\n      <td>0.0</td>\n      <td>0.0</td>\n      <td>100.0</td>\n      <td>0.0</td>\n      <td>33.0</td>\n      <td>1.00</td>\n      <td>1.00</td>\n      <td>0.0</td>\n    </tr>\n    <tr>\n      <th>16</th>\n      <td>4.216000</td>\n      <td>5</td>\n      <td>0.096154</td>\n      <td>0.0</td>\n      <td>20.0</td>\n      <td>0.0</td>\n      <td>80.0</td>\n      <td>40.0</td>\n      <td>20.0</td>\n      <td>0.14</td>\n      <td>0.18</td>\n      <td>2.0</td>\n    </tr>\n  </tbody>\n</table>\n</div>"
     },
     "execution_count": 58,
     "metadata": {},
     "output_type": "execute_result"
    }
   ],
   "source": [
    "# How many a household bought a brand after buying another brand\n",
    "# sort by week\n",
    "df.sort_values(['Household', 'Week'], inplace=True)\n",
    "for household in df['Household'].unique():\n",
    "    prev_brand = df[(df['Household'] == household)].iloc[0]['Brand']\n",
    "    count = 0\n",
    "    for week in df[(df['Household'] == household)]['Week']:\n",
    "        current_brand = df[(df['Household'] == household) & (df['Week'] == week)]['Brand'].values[0]\n",
    "        if current_brand != prev_brand:\n",
    "            count += 1\n",
    "            prev_brand = current_brand\n",
    "    customer.loc[household, 'BrandChange'] = count\n",
    "\n",
    "customer.head()\n"
   ]
  },
  {
   "cell_type": "code",
   "execution_count": 68,
   "metadata": {
    "ExecuteTime": {
     "end_time": "2024-10-14T15:12:19.939929200Z",
     "start_time": "2024-10-14T15:12:19.919223800Z"
    }
   },
   "outputs": [
    {
     "data": {
      "text/plain": "           AvgPrice      Freq  BrandChange\nHousehold                                 \n9          4.591429  0.134615          1.0\n11         5.170000  0.096154          1.0\n12         6.116250  0.153846          0.0\n15         4.538333  0.115385          0.0\n16         4.216000  0.096154          2.0",
      "text/html": "<div>\n<style scoped>\n    .dataframe tbody tr th:only-of-type {\n        vertical-align: middle;\n    }\n\n    .dataframe tbody tr th {\n        vertical-align: top;\n    }\n\n    .dataframe thead th {\n        text-align: right;\n    }\n</style>\n<table border=\"1\" class=\"dataframe\">\n  <thead>\n    <tr style=\"text-align: right;\">\n      <th></th>\n      <th>AvgPrice</th>\n      <th>Freq</th>\n      <th>BrandChange</th>\n    </tr>\n    <tr>\n      <th>Household</th>\n      <th></th>\n      <th></th>\n      <th></th>\n    </tr>\n  </thead>\n  <tbody>\n    <tr>\n      <th>9</th>\n      <td>4.591429</td>\n      <td>0.134615</td>\n      <td>1.0</td>\n    </tr>\n    <tr>\n      <th>11</th>\n      <td>5.170000</td>\n      <td>0.096154</td>\n      <td>1.0</td>\n    </tr>\n    <tr>\n      <th>12</th>\n      <td>6.116250</td>\n      <td>0.153846</td>\n      <td>0.0</td>\n    </tr>\n    <tr>\n      <th>15</th>\n      <td>4.538333</td>\n      <td>0.115385</td>\n      <td>0.0</td>\n    </tr>\n    <tr>\n      <th>16</th>\n      <td>4.216000</td>\n      <td>0.096154</td>\n      <td>2.0</td>\n    </tr>\n  </tbody>\n</table>\n</div>"
     },
     "execution_count": 68,
     "metadata": {},
     "output_type": "execute_result"
    }
   ],
   "source": [
    "customer_with_changes= customer.drop(['Era', 'Surf', 'Tide', 'Wisk', 'TotalPurchases', 'Display', 'Feature', 'MinLoyalty', 'MaxLoyalty'], axis=1)\n",
    "customer_with_changes.head()"
   ]
  },
  {
   "cell_type": "code",
   "execution_count": 69,
   "outputs": [
    {
     "data": {
      "text/plain": "<Figure size 640x480 with 1 Axes>",
      "image/png": "[encoded data removed]"
     },
     "metadata": {},
     "output_type": "display_data"
    }
   ],
   "source": [
    "# cluster again without brand\n",
    "X = customer_with_changes \n",
    "X = scaler.fit_transform(X)\n",
    "#elbow method\n",
    "elbow(X)"
   ],
   "metadata": {
    "collapsed": false,
    "ExecuteTime": {
     "end_time": "2024-10-14T15:12:20.852550100Z",
     "start_time": "2024-10-14T15:12:20.658115200Z"
    }
   }
  },
  {
   "cell_type": "code",
   "execution_count": 70,
   "metadata": {
    "ExecuteTime": {
     "end_time": "2024-10-14T15:13:09.886540400Z",
     "start_time": "2024-10-14T15:13:09.782217300Z"
    }
   },
   "outputs": [
    {
     "data": {
      "text/plain": "         AvgPrice      Freq  BrandChange\nCluster                                 \n0        5.140145  0.186813     3.857143\n1        4.643453  0.096154     1.681818\n2        4.653079  0.176573     0.000000\n3        5.614445  0.110577     0.583333",
      "text/html": "<div>\n<style scoped>\n    .dataframe tbody tr th:only-of-type {\n        vertical-align: middle;\n    }\n\n    .dataframe tbody tr th {\n        vertical-align: top;\n    }\n\n    .dataframe thead th {\n        text-align: right;\n    }\n</style>\n<table border=\"1\" class=\"dataframe\">\n  <thead>\n    <tr style=\"text-align: right;\">\n      <th></th>\n      <th>AvgPrice</th>\n      <th>Freq</th>\n      <th>BrandChange</th>\n    </tr>\n    <tr>\n      <th>Cluster</th>\n      <th></th>\n      <th></th>\n      <th></th>\n    </tr>\n  </thead>\n  <tbody>\n    <tr>\n      <th>0</th>\n      <td>5.140145</td>\n      <td>0.186813</td>\n      <td>3.857143</td>\n    </tr>\n    <tr>\n      <th>1</th>\n      <td>4.643453</td>\n      <td>0.096154</td>\n      <td>1.681818</td>\n    </tr>\n    <tr>\n      <th>2</th>\n      <td>4.653079</td>\n      <td>0.176573</td>\n      <td>0.000000</td>\n    </tr>\n    <tr>\n      <th>3</th>\n      <td>5.614445</td>\n      <td>0.110577</td>\n      <td>0.583333</td>\n    </tr>\n  </tbody>\n</table>\n</div>"
     },
     "execution_count": 70,
     "metadata": {},
     "output_type": "execute_result"
    }
   ],
   "source": [
    "\n",
    "kmeans = KMeans(n_clusters=4, random_state=123)\n",
    "customer_with_changes['Cluster'] = kmeans.fit_predict(X)\n",
    "customer_with_changes.head()\n",
    "cluster_analysis = customer_with_changes.groupby('Cluster').agg({'AvgPrice': 'mean', 'Freq': 'mean', 'BrandChange': 'mean'})\n",
    "cluster_analysis.head()"
   ]
  },
  {
   "cell_type": "markdown",
   "source": [
    " 0: Highest frequency, high price, highest brand change (most likely to change brand)\n",
    " 1: Lowest frequency, lowest price (buy low price products)\n",
    " 2: High frequency, low price, lowest brand change (most loyal, buy frequently, buy cheap)\n",
    " 3: Low frequency, highest price, low brand change (loyal to high price products, buy less frequently)"
   ],
   "metadata": {
    "collapsed": false
   }
  },
  {
   "cell_type": "code",
   "execution_count": null,
   "outputs": [],
   "source": [],
   "metadata": {
    "collapsed": false
   }
  }
 ],
 "metadata": {
  "kernelspec": {
   "display_name": "base",
   "language": "python",
   "name": "python3"
  },
  "language_info": {
   "codemirror_mode": {
    "name": "ipython",
    "version": 3
   },
   "file_extension": ".py",
   "mimetype": "text/x-python",
   "name": "python",
   "nbconvert_exporter": "python",
   "pygments_lexer": "ipython3",
   "version": "3.11.5"
  }
 },
 "nbformat": 4,
 "nbformat_minor": 2
}
